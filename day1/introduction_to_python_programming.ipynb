{
  "cells": [
    {
      "cell_type": "markdown",
      "metadata": {
        "id": "9de6hs0zs2H1"
      },
      "source": [
        "# Introduction to Python Programming\n",
        "\n",
        "- This notebook is for you if you have never written a single line of Python code, and you are interested in learning machine learning.\n",
        "\n",
        "- In this notebook, you will learn how to use Python code to get a computer to perform certain tasks for you.\n",
        "\n",
        "- Python is one of the most popular programming languages for machine learning and data science, and it's the language you'll learn in this notebook."
      ]
    },
    {
      "cell_type": "markdown",
      "metadata": {
        "id": "tAAneXOXtk9O"
      },
      "source": [
        "## 🖨️ Printing\n",
        "\n",
        "- One of the simplest (and most important!) tasks you can ask a computer to do is to print a message.\n",
        "\n",
        "- In Python, we ask a computer to print a message for us by writing `print()` and putting the message inside the parentheses and enclosed in quotation marks. Below, we ask the computer to print the message `Hello, world!`."
      ]
    },
    {
      "cell_type": "code",
      "execution_count": null,
      "metadata": {
        "colab": {
          "base_uri": "https://localhost:8080/"
        },
        "id": "cuB4Gncesqbw",
        "outputId": "93cb0d7f-c5f3-4907-a8d3-edd07fff7330"
      },
      "outputs": [
        {
          "name": "stdout",
          "output_type": "stream",
          "text": [
            "Hello, world!\n"
          ]
        }
      ],
      "source": [
        "print(\"Hello, world!\")"
      ]
    },
    {
      "cell_type": "markdown",
      "metadata": {
        "id": "opxCB5iq0Ey2"
      },
      "source": [
        "The code is inside the box (known as a **code cell**), and the computer's response (called the **output** of the code) is shown below the box. As you can see, the computer printed the message that we wanted."
      ]
    },
    {
      "cell_type": "markdown",
      "metadata": {
        "id": "nEraRX_106vo"
      },
      "source": [
        "## ➗ Arithmetic\n",
        "\n",
        "We can also print the value of some arithmetic operation (such as addition, subtraction, multiplication, or division).\n",
        "\n",
        "For instance, in the next code cell, the computer adds 2 to 1 and then prints the result, which is 3. Note that unlike when we were simply printing text, we don't use any quotation marks."
      ]
    },
    {
      "cell_type": "code",
      "execution_count": null,
      "metadata": {
        "colab": {
          "base_uri": "https://localhost:8080/"
        },
        "id": "u8WMhBwgtxmE",
        "outputId": "8da51ee7-58d1-433a-ed71-8d64d91d8651"
      },
      "outputs": [
        {
          "name": "stdout",
          "output_type": "stream",
          "text": [
            "3\n"
          ]
        }
      ],
      "source": [
        "print(1 + 2)"
      ]
    },
    {
      "cell_type": "markdown",
      "metadata": {
        "id": "uAC9sodZ1a26"
      },
      "source": [
        "We can also do subtraction in python. The next code cell subtracts 5 from 9 and prints the result, which is 4."
      ]
    },
    {
      "cell_type": "code",
      "execution_count": null,
      "metadata": {
        "colab": {
          "base_uri": "https://localhost:8080/"
        },
        "id": "Lavm-6x_1ZHi",
        "outputId": "0dd55d8c-3603-4411-9232-b1039f380895"
      },
      "outputs": [
        {
          "name": "stdout",
          "output_type": "stream",
          "text": [
            "4\n"
          ]
        }
      ],
      "source": [
        "print(9 - 5)"
      ]
    },
    {
      "cell_type": "markdown",
      "metadata": {
        "id": "bGEc-M1k1l2G"
      },
      "source": [
        "You can actually do a lot of calculations with python! See the table below for some examples.\n",
        "\n",
        "| Operation\t| Symbol | Example |\n",
        "| --------- | ------ | ------- |\n",
        "| Addition\t| + |\t1 + 2 = 3 |\n",
        "| Subtraction |\t-\t| 5 - 4 = 1 |\n",
        "| Multiplication |\t* |\t2 * 4 = 8 |\n",
        "| Division\t| / |\t6 / 3 = 2 |\n",
        "| Exponent |\t** |\t3 ** 2 = 9 |"
      ]
    },
    {
      "cell_type": "markdown",
      "metadata": {
        "id": "iHPENf8Q2GZ-"
      },
      "source": [
        "You can control the order of operations in long calculations with parentheses."
      ]
    },
    {
      "cell_type": "code",
      "execution_count": null,
      "metadata": {
        "colab": {
          "base_uri": "https://localhost:8080/"
        },
        "id": "iXmojC5i1e6Q",
        "outputId": "09123070-d6bc-41ba-ca9e-c65aa3c810ab"
      },
      "outputs": [
        {
          "name": "stdout",
          "output_type": "stream",
          "text": [
            "49.0\n"
          ]
        }
      ],
      "source": [
        "print(((1 + 1) * (9 - 2) / 2) ** 2)"
      ]
    },
    {
      "cell_type": "markdown",
      "metadata": {
        "id": "h3Z20hYX2RDd"
      },
      "source": [
        "In general, Python follows the [PEMDAS rule](https://www.mathsisfun.com/operation-order-pemdas.html) when deciding the order of operations."
      ]
    },
    {
      "cell_type": "markdown",
      "metadata": {
        "id": "kKa69owE2qUD"
      },
      "source": [
        "## 💭 Comments\n",
        "\n",
        "We use **comments** to annotate what code is doing. They help other people to understand your code, and they can also be helpful if you haven't looked at your own code in a while. So far, the code that we have written is very short, but annotations become more important when you have written a lot of code.\n",
        "\n",
        "For instance, in the next code cell, we multiply 3 by 2. We also add a comment (`# Multiply 3 by 2`) above the code to describe what the code is doing."
      ]
    },
    {
      "cell_type": "code",
      "execution_count": null,
      "metadata": {
        "colab": {
          "base_uri": "https://localhost:8080/"
        },
        "id": "mskNkT4Q2JcT",
        "outputId": "3fe0f727-e49e-437c-f43d-4d7952532aca"
      },
      "outputs": [
        {
          "name": "stdout",
          "output_type": "stream",
          "text": [
            "6\n"
          ]
        }
      ],
      "source": [
        "# Multiply 3 by 2\n",
        "print(3 * 2)"
      ]
    },
    {
      "cell_type": "markdown",
      "metadata": {
        "id": "hvUzoeP627oK"
      },
      "source": [
        "To indicate to Python that a line is comment (and not Python code), you need to write a pound sign (`#`) as the very first character.\n",
        "\n",
        "Once Python sees the pound sign and recognizes that the line is a comment, it is completely ignored by the computer. This is important, because just like English or Hindi (or any other language!), Python is a language with very strict rules that need to be followed. Python is stricter than a human listener, though, and will just error if it can't understand the code.\n",
        "\n",
        "We can see an example of this, in the code cell below. Python errors if we remove the pound sign, because the text in the comment is not valid Python code, so it can't be interpreted properly."
      ]
    },
    {
      "cell_type": "code",
      "execution_count": null,
      "metadata": {
        "colab": {
          "base_uri": "https://localhost:8080/",
          "height": 105
        },
        "id": "AfzG4elR20if",
        "outputId": "bc93259a-7bd2-495b-87a5-ac7b974b247b"
      },
      "outputs": [
        {
          "ename": "SyntaxError",
          "evalue": "invalid syntax (<ipython-input-7-a91ee14dd7d4>, line 1)",
          "output_type": "error",
          "traceback": [
            "\u001b[0;36m  File \u001b[0;32m\"<ipython-input-7-a91ee14dd7d4>\"\u001b[0;36m, line \u001b[0;32m1\u001b[0m\n\u001b[0;31m    Multiply 3 by 2\u001b[0m\n\u001b[0m             ^\u001b[0m\n\u001b[0;31mSyntaxError\u001b[0m\u001b[0;31m:\u001b[0m invalid syntax\n"
          ]
        }
      ],
      "source": [
        "Multiply 3 by 2"
      ]
    },
    {
      "cell_type": "markdown",
      "metadata": {
        "id": "iPucFyBX3JYq"
      },
      "source": [
        "## 🔤 Variables\n",
        "\n",
        "So far, you have used code to make a calculation and print the result, and the result isn't saved anywhere. However, you can imagine that you might want to save the result to work with it later. For this, you'll need to use variables."
      ]
    },
    {
      "cell_type": "markdown",
      "metadata": {
        "id": "XiukjmPD3NtK"
      },
      "source": [
        "### Creating variables\n",
        "\n",
        "The next code cell creates a variable named `test_var` and assigns it the value that we get when we add 5 to 4.\n",
        "\n",
        "We then print the value that is assigned to the variable, which is 9."
      ]
    },
    {
      "cell_type": "code",
      "execution_count": null,
      "metadata": {
        "colab": {
          "base_uri": "https://localhost:8080/"
        },
        "id": "ArF1uXjB3FR7",
        "outputId": "8caebd4c-5e91-4860-84c7-4f359d6f20f9"
      },
      "outputs": [
        {
          "name": "stdout",
          "output_type": "stream",
          "text": [
            "9\n"
          ]
        }
      ],
      "source": [
        "# Create a variable called test_var and give it a value of 4+5\n",
        "test_var = 4 + 5\n",
        "\n",
        "# Print the value of test_var\n",
        "print(test_var)"
      ]
    },
    {
      "cell_type": "markdown",
      "metadata": {
        "id": "N5I7Epy54vXa"
      },
      "source": [
        "In general, to work with a variable, you need to begin by selecting the name you want to use. Variable names are ideally short and descriptive. They also need to satisfy several requirements:\n",
        "\n",
        "- They can't have spaces (e.g., `test var` is not allowed)\n",
        "- They can only include letters, numbers, and underscores (e.g., `test_var!` is not allowed)\n",
        "- They have to start with a letter or underscore (e.g., `1_var` is not allowed)\n",
        "\n",
        "Then, to create the variable, you need to use `=` to assign the value that you want it to have.\n",
        "\n",
        "You can always take a look at the value assigned to the variable by using `print()` and putting the name of the variable in parentheses.\n",
        "\n",
        "Over time, you'll learn how to select good names for Python variables. It's completely fine for it to feel uncomfortable now, and the best way to learn is just by viewing a lot of Python code!"
      ]
    },
    {
      "cell_type": "markdown",
      "metadata": {
        "id": "weWxOuPG470w"
      },
      "source": [
        "### Manipulating variables\n",
        "\n",
        "You can always change the value assigned to a variable by overriding the previous value.\n",
        "\n",
        "In the code cell below, we change the value of `my_var` from 3 to 100."
      ]
    },
    {
      "cell_type": "code",
      "execution_count": null,
      "metadata": {
        "colab": {
          "base_uri": "https://localhost:8080/"
        },
        "id": "vNVWC2Q_3XLv",
        "outputId": "eaec94a9-f52a-4ea9-a639-6d136fbce057"
      },
      "outputs": [
        {
          "name": "stdout",
          "output_type": "stream",
          "text": [
            "Value assigned:\n",
            "3\n",
            "New Value:\n",
            "100\n"
          ]
        }
      ],
      "source": [
        "# Set the value of a new variable to 3\n",
        "my_var = 3\n",
        "\n",
        "# Print the value assigned to my_var\n",
        "print(\"Value assigned:\")\n",
        "print(my_var)\n",
        "\n",
        "# Change the value of the variable to 100\n",
        "my_var = 100\n",
        "\n",
        "# Print the new value assigned to my_var\n",
        "print(\"New Value:\")\n",
        "print(my_var)"
      ]
    },
    {
      "cell_type": "markdown",
      "metadata": {
        "id": "iaCuRoTz5teW"
      },
      "source": [
        "Note that in general, whenever you define a variable in a code cell, all of the code cells that follow also have access to the variable. For instance, we use the next code cell to access the values of `my_var` (from the code cell above) and `test_var` (from earlier in this notebook)."
      ]
    },
    {
      "cell_type": "code",
      "execution_count": null,
      "metadata": {
        "colab": {
          "base_uri": "https://localhost:8080/"
        },
        "id": "mcTsOcg05wll",
        "outputId": "cbfe699c-f353-445c-8c9c-2948df65271a"
      },
      "outputs": [
        {
          "name": "stdout",
          "output_type": "stream",
          "text": [
            "100\n",
            "9\n"
          ]
        }
      ],
      "source": [
        "print(my_var)\n",
        "print(test_var)"
      ]
    },
    {
      "cell_type": "markdown",
      "metadata": {
        "id": "GSBT-g3i6cZN"
      },
      "source": [
        "The next code cell tells Python to increase the current value of `my_var` by 3.\n",
        "\n",
        "To do this, we still need to use `my_var =` like before. And also just like before, the new value we want to assign to the variable is to the right of the `=` sign."
      ]
    },
    {
      "cell_type": "code",
      "execution_count": null,
      "metadata": {
        "colab": {
          "base_uri": "https://localhost:8080/"
        },
        "id": "XBwf2Rre6CzW",
        "outputId": "c836dbb6-ccd5-4496-d408-cac995afcf80"
      },
      "outputs": [
        {
          "name": "stdout",
          "output_type": "stream",
          "text": [
            "103\n"
          ]
        }
      ],
      "source": [
        "# Increase the value by 3\n",
        "my_var = my_var + 3\n",
        "\n",
        "# Print the value assigned to my_var\n",
        "print(my_var)"
      ]
    },
    {
      "cell_type": "markdown",
      "metadata": {
        "id": "xZik10rH6mh4"
      },
      "source": [
        "### Using multiple variables\n",
        "\n",
        "It's common for code to use multiple variables. This is especially useful when we have to do a long calculation with multiple inputs.\n",
        "\n",
        "In the next code cell, we calculate the number of seconds in four years. This calculation uses five inputs."
      ]
    },
    {
      "cell_type": "code",
      "execution_count": null,
      "metadata": {
        "colab": {
          "base_uri": "https://localhost:8080/"
        },
        "id": "R8LM_psC6jra",
        "outputId": "2c8a6e6f-ed5d-4617-e49c-090f3764e435"
      },
      "outputs": [
        {
          "name": "stdout",
          "output_type": "stream",
          "text": [
            "126144000\n"
          ]
        }
      ],
      "source": [
        "# Create variables\n",
        "num_years = 4\n",
        "days_per_year = 365\n",
        "hours_per_day = 24\n",
        "mins_per_hour = 60\n",
        "secs_per_min = 60\n",
        "\n",
        "# Calculate number of seconds in four years\n",
        "total_secs = secs_per_min * mins_per_hour * hours_per_day * days_per_year * num_years\n",
        "print(total_secs)"
      ]
    },
    {
      "cell_type": "markdown",
      "metadata": {
        "id": "Vfq1WmHF621H"
      },
      "source": [
        "As calculated above, there are 126144000 seconds in four years.\n",
        "\n",
        "Note it is *possible* to do this calculation without variables as just `60 * 60 * 24 * 365 * 4`, but it is much harder to check that the calculation without variables does not have some error, because it is not as readable. When we use variables (such as `num_years`, `days_per_year`, etc), we can better keep track of each part of the calculation and more easily check for and correct any mistakes.\n",
        "\n",
        "Note that it is particularly useful to use variables when the values of the inputs can change. For instance, say we want to slightly improve our estimate by updating the value of the number of days in a year from 365 to 365.25, to account for leap years. Then we can change the value assigned to `days_per_year` without changing any of the other variables and redo the calculation."
      ]
    },
    {
      "cell_type": "code",
      "execution_count": null,
      "metadata": {
        "colab": {
          "base_uri": "https://localhost:8080/"
        },
        "id": "dsn_mR4D6xx3",
        "outputId": "9a919a94-541b-4efa-e9a5-4d619fc2c1ab"
      },
      "outputs": [
        {
          "name": "stdout",
          "output_type": "stream",
          "text": [
            "126230400.0\n"
          ]
        }
      ],
      "source": [
        "# Update to include leap years\n",
        "days_per_year = 365.25\n",
        "\n",
        "# Calculate number of seconds in four years\n",
        "total_secs = secs_per_min * mins_per_hour * hours_per_day * days_per_year * num_years\n",
        "print(total_secs)"
      ]
    },
    {
      "cell_type": "markdown",
      "metadata": {
        "id": "Sc_zPcr97nZZ"
      },
      "source": [
        "Note: You might have noticed the .0 added at the end of the number, which might look unnecessary. This is caused by the fact that in the second calculation, we used a number with a fractional part (365.25), whereas the first calculation multipled just numbers with no fractional part."
      ]
    },
    {
      "cell_type": "markdown",
      "metadata": {
        "id": "doSyyvBM7sYL"
      },
      "source": [
        "### Debugging\n",
        "\n",
        "One common error when working with variables is to accidentally introduce typos. For instance, if we spell `hours_per_day` as `hours_per_dy`, Python will error with message `NameError: name 'hours_per_dy' is not defined`."
      ]
    },
    {
      "cell_type": "code",
      "execution_count": null,
      "metadata": {
        "colab": {
          "base_uri": "https://localhost:8080/",
          "height": 139
        },
        "id": "_UMAX97n7iVt",
        "outputId": "a6ac8bc7-25d8-4389-b3b1-357e941cbb38"
      },
      "outputs": [
        {
          "ename": "NameError",
          "evalue": "name 'hours_per_dy' is not defined",
          "output_type": "error",
          "traceback": [
            "\u001b[0;31m---------------------------------------------------------------------------\u001b[0m",
            "\u001b[0;31mNameError\u001b[0m                                 Traceback (most recent call last)",
            "\u001b[0;32m<ipython-input-16-9c43394606fc>\u001b[0m in \u001b[0;36m<cell line: 1>\u001b[0;34m()\u001b[0m\n\u001b[0;32m----> 1\u001b[0;31m \u001b[0mprint\u001b[0m\u001b[0;34m(\u001b[0m\u001b[0mhours_per_dy\u001b[0m\u001b[0;34m)\u001b[0m\u001b[0;34m\u001b[0m\u001b[0;34m\u001b[0m\u001b[0m\n\u001b[0m",
            "\u001b[0;31mNameError\u001b[0m: name 'hours_per_dy' is not defined"
          ]
        }
      ],
      "source": [
        "print(hours_per_dy)"
      ]
    },
    {
      "cell_type": "markdown",
      "metadata": {
        "id": "xsnTg2C376OW"
      },
      "source": [
        "When you see `NameError` like this, it's an indication that you should check how you have spelled the variable that it references as \"not defined\". Then, to fix the error, you need only correct the spelling."
      ]
    },
    {
      "cell_type": "code",
      "execution_count": null,
      "metadata": {
        "colab": {
          "base_uri": "https://localhost:8080/"
        },
        "id": "RayHerV673D6",
        "outputId": "7fbdfd14-4606-405b-f461-1b498004dcae"
      },
      "outputs": [
        {
          "name": "stdout",
          "output_type": "stream",
          "text": [
            "24\n"
          ]
        }
      ],
      "source": [
        "print(hours_per_day)"
      ]
    },
    {
      "cell_type": "markdown",
      "metadata": {
        "id": "LoaabwRx846z"
      },
      "source": [
        "### 👟 Exercise"
      ]
    },
    {
      "cell_type": "markdown",
      "metadata": {
        "id": "S4WnZFx381b9"
      },
      "source": [
        "Use the next code cell to:\n",
        "- Define a variable `births_per_min` and set it to 250.  (There are on average 250 babies born each minute.)\n",
        "- Define a variable `births_per_day` that contains the average number of babies born each day.  (To set the value of this variable, you should use `births_per_min` and some of the variables from the previous code cell.)\n"
      ]
    },
    {
      "cell_type": "code",
      "execution_count": null,
      "metadata": {
        "colab": {
          "base_uri": "https://localhost:8080/"
        },
        "id": "NcYcCR7d7--Y",
        "outputId": "60369a1d-05a8-4ffd-bf60-862b988cbe26"
      },
      "outputs": [
        {
          "name": "stdout",
          "output_type": "stream",
          "text": [
            "360000\n"
          ]
        }
      ],
      "source": [
        "# TODO: Set the value of the births_per_min variable\n",
        "births_per_min = 250\n",
        "\n",
        "# TODO: Set the value of the births_per_day variable\n",
        "births_per_day = births_per_min * mins_per_hour * hours_per_day\n",
        "\n",
        "# TODO: Print the value of the births_per_day variable\n",
        "print(births_per_day)"
      ]
    },
    {
      "cell_type": "markdown",
      "metadata": {
        "id": "uSDZuq1d-QHO"
      },
      "source": [
        "## 🤖 Functions\n",
        "\n",
        "In this part, you will learn how to organize your code with functions. A function is a block of code designed to perform a specific task. As you'll see, functions will let you do roughly the same calculation multiple times without duplicating any code."
      ]
    },
    {
      "cell_type": "markdown",
      "metadata": {
        "id": "GU7DBsho_8oe"
      },
      "source": [
        "### Simple Example\n",
        "\n",
        "We begin with a simple example of a function. The `add_three()` function below accepts any number, adds three to it, and then returns the result."
      ]
    },
    {
      "cell_type": "code",
      "execution_count": null,
      "metadata": {
        "id": "v1ovxRCK9uSa"
      },
      "outputs": [],
      "source": [
        "# Define the function\n",
        "def add_three(input_var):\n",
        "    output_var = input_var + 3\n",
        "    return output_var"
      ]
    },
    {
      "cell_type": "markdown",
      "metadata": {
        "id": "4kRmbOASAHkt"
      },
      "source": [
        "Every function is composed of two pieces: a header and body.\n",
        "\n",
        "![Functions](https://github.com/rugvedmhatre/machine-learning-summer/blob/main/assets/images/ml-summer-school/day-1/functions.png?raw=true)"
      ]
    },
    {
      "cell_type": "markdown",
      "metadata": {
        "id": "7vPxeCnxBo_4"
      },
      "source": [
        "__Header__\n",
        "\n",
        "The function header defines the name of the function and its argument(s).\n",
        "\n",
        "- Every function header begins with `def`, which tells Python that we are about to define a function.\n",
        "- In the example, the function name is `add_three`.\n",
        "- In the example, the argument is `input_var`. The **argument** is the name of the variable that will be used as input to the function. It is always enclosed in parentheses that apppear immediately after the name of the function. (*Note that a function can also have no arguments, or it can have multiple arguments. You'll see some examples of this later in the lesson.*)\n",
        "- For every function, the parentheses enclosing the function argument(s) must be followed by a colon `:`."
      ]
    },
    {
      "cell_type": "markdown",
      "metadata": {
        "id": "z-CqoVrQCHE4"
      },
      "source": [
        "__Body__\n",
        "\n",
        "The function body specifies the work that the function does.\n",
        "\n",
        "- Every line of code in the function body must be indented exactly four spaces. You can do this by pushing the space bar four times, or by hitting the \"Tab\" button once on your keyboard. (*As you learn more about Python, you may need to indent your code by more than four spaces, but you'll learn more about that later in this course.*)\n",
        "- The function does its work by running all of the indented lines from top to bottom.\n",
        "  - It takes the argument as input, which in the example is `input_var`.\n",
        "  - The function creates a new variable `output_var` with the calculation `output_var = input_var + 3`.\n",
        "  - Then, the final line of code, called the **return statement**, just returns the value in `output_var` as the function's output.\n",
        "\n",
        "The code cell above just defines the function, but does not run it. The details of the function body will make more sense after the next code cell, when we actually run the function."
      ]
    },
    {
      "cell_type": "markdown",
      "metadata": {
        "id": "A7DHzWk2C8EC"
      },
      "source": [
        "### How to run (or \"call\") a function\n",
        "\n",
        "When we run a function, it can also be referred to as \"calling\" the function.\n",
        "\n",
        "In the code cell below, we run the function with `10` as the input value. We define a new variable `new_number` which is set to the output of the function."
      ]
    },
    {
      "cell_type": "code",
      "execution_count": null,
      "metadata": {
        "colab": {
          "base_uri": "https://localhost:8080/"
        },
        "id": "9jNJWd5xAEzt",
        "outputId": "13ac759a-14ca-4f31-9707-8fee5d85e9ae"
      },
      "outputs": [
        {
          "name": "stdout",
          "output_type": "stream",
          "text": [
            "13\n"
          ]
        }
      ],
      "source": [
        "# Run the function with 10 as input\n",
        "new_number = add_three(10)\n",
        "\n",
        "# Check that the value is 13, as expected\n",
        "print(new_number)"
      ]
    },
    {
      "cell_type": "markdown",
      "metadata": {
        "id": "JhZGrs6REMHP"
      },
      "source": [
        "![Functions - 2](https://github.com/rugvedmhatre/machine-learning-summer/blob/main/assets/images/ml-summer-school/day-1/functions_2.png?raw=true)"
      ]
    },
    {
      "cell_type": "markdown",
      "metadata": {
        "id": "XjsPg44_EWve"
      },
      "source": [
        "In more detail,\n",
        "\n",
        "- `add_three(10)` is the value that we get as output when we supply `10` as the value for `input_var` and call the `add_three()` function. When the function runs, it runs all of the code in its body, from top to bottom:\n",
        "  - It first calculates `output_var = input_var + 3`, which sets `output_var = 13`.\n",
        "  - The final line of code is the return statement, which returns the value of `output_var`, which is `13`.\n",
        "- By setting `new_number = add_three(10)`, we set `new_number = 13`.\n",
        "\n",
        "**Note:** When we casually refer to the `add_three()` function in this notebook, we use empty closing parentheses after the function name. This is consistent with how people generally write explanations of Python code, and the empty parentheses just make it clear that we are referring to a function, as opposed to a variable or another Python object. These parentheses should always be empty, even if the function has arguments."
      ]
    },
    {
      "cell_type": "markdown",
      "metadata": {
        "id": "Gc0M6msrFMI7"
      },
      "source": [
        "### Naming functions\n",
        "\n",
        "In the example above, the name of the function was selected for you. When naming your own functions, you should use only lowercase letters, with words separated by underscores instead of spaces.\n",
        "\n",
        "Naming functions will feel natural over time, and it is normal for it to feel uncomfortable at first. The best way to learn is by viewing a lot of Python code."
      ]
    },
    {
      "cell_type": "markdown",
      "metadata": {
        "id": "jSqPXQo6FXHw"
      },
      "source": [
        "### A more complex example\n",
        "\n",
        "Now that you understand the basics, we can move on to an example with a longer calculation.\n",
        "\n",
        "Say you are helping a friend to calculate their weekly paycheck after taxes.\n",
        "\n",
        "- They're in a 12% tax bracket (in other words, 12% of their salary is taken for taxes, and they only take home 88%), and\n",
        "- They're paid hourly, at a rate of $15/hour.\n",
        "\n",
        "The function below calculates the paycheck based on the number of hours worked. The function is more complicated than with the first example, because the function has more lines of code and comments. Similar to the example above, the function has a single argument (`num_hours`). In the function body, we:\n",
        "\n",
        "- Use the value for `num_hours` to specify the value for a new variable `pay_pretax`.\n",
        "- Use the value of `pay_pretax` to specify the value for a new variable `pay_aftertax`.\n",
        "- Return the value of the `pay_aftertax` variable."
      ]
    },
    {
      "cell_type": "code",
      "execution_count": null,
      "metadata": {
        "id": "oQa4tdbaDKqL"
      },
      "outputs": [],
      "source": [
        "def get_pay(num_hours):\n",
        "    # Pre-tax pay, based on receiving $15/hour\n",
        "    pay_pretax = num_hours * 15\n",
        "\n",
        "    # After-tax pay, based on being in 12% tax bracket\n",
        "    pay_aftertax = pay_pretax * (1 - 0.12)\n",
        "\n",
        "    return pay_aftertax"
      ]
    },
    {
      "cell_type": "markdown",
      "metadata": {
        "id": "KYxt9c46GRT_"
      },
      "source": [
        "We call this function the same way we called the first function. The next code cell calculates the paycheck, based on working 40 hours. (After taxes, it is $528.)"
      ]
    },
    {
      "cell_type": "code",
      "execution_count": null,
      "metadata": {
        "colab": {
          "base_uri": "https://localhost:8080/"
        },
        "id": "tIshsl7NGPZL",
        "outputId": "dcf9748d-1d6d-44a0-9aa8-fed0a773c146"
      },
      "outputs": [
        {
          "name": "stdout",
          "output_type": "stream",
          "text": [
            "528.0\n"
          ]
        }
      ],
      "source": [
        "# Calculate pay based on working 40 hours\n",
        "pay_fulltime = get_pay(40)\n",
        "print(pay_fulltime)"
      ]
    },
    {
      "cell_type": "markdown",
      "metadata": {
        "id": "lyAPJRdiGc3l"
      },
      "source": [
        "To quickly calculate pay based on a different number of hours worked, you need to supply the function with a different number. For instance, say your friend works 32 hours. (Then, they get $422.40.)"
      ]
    },
    {
      "cell_type": "code",
      "execution_count": null,
      "metadata": {
        "colab": {
          "base_uri": "https://localhost:8080/"
        },
        "id": "uRZTe4NTGUOZ",
        "outputId": "e402565b-035b-45bb-b7fc-10666895356e"
      },
      "outputs": [
        {
          "name": "stdout",
          "output_type": "stream",
          "text": [
            "422.4\n"
          ]
        }
      ],
      "source": [
        "pay_parttime = get_pay(32)\n",
        "print(pay_parttime)"
      ]
    },
    {
      "cell_type": "markdown",
      "metadata": {
        "id": "DvePbtnaGhrI"
      },
      "source": [
        "Because you wrote a function, you can calculate pay for different hours without having to rewrite all of the code in the calculations all over again.\n",
        "\n",
        "Functions can help you to avoid errors in your code, and you save a lot of time. In general, when coding, you should aim to write as little as possible, because each time you type out a calculation, it's another opportunity to accidentally introduce a typo or error."
      ]
    },
    {
      "cell_type": "markdown",
      "metadata": {
        "id": "xOo71tyzG4XO"
      },
      "source": [
        "### Variable \"scope\"\n",
        "\n",
        "Variables defined inside the function body cannot be accessed outside of the function. For instance, the next code cell errors, because `pay_aftertax` only exists inside the function."
      ]
    },
    {
      "cell_type": "code",
      "execution_count": null,
      "metadata": {
        "colab": {
          "base_uri": "https://localhost:8080/",
          "height": 139
        },
        "id": "kkQ-NJKDGey5",
        "outputId": "24b88c77-16e9-41dd-9fb2-e2577d9eb78e"
      },
      "outputs": [
        {
          "ename": "NameError",
          "evalue": "name 'pay_aftertax' is not defined",
          "output_type": "error",
          "traceback": [
            "\u001b[0;31m---------------------------------------------------------------------------\u001b[0m",
            "\u001b[0;31mNameError\u001b[0m                                 Traceback (most recent call last)",
            "\u001b[0;32m<ipython-input-26-0dc6de9a0e5a>\u001b[0m in \u001b[0;36m<cell line: 1>\u001b[0;34m()\u001b[0m\n\u001b[0;32m----> 1\u001b[0;31m \u001b[0mprint\u001b[0m\u001b[0;34m(\u001b[0m\u001b[0mpay_aftertax\u001b[0m\u001b[0;34m)\u001b[0m\u001b[0;34m\u001b[0m\u001b[0;34m\u001b[0m\u001b[0m\n\u001b[0m",
            "\u001b[0;31mNameError\u001b[0m: name 'pay_aftertax' is not defined"
          ]
        }
      ],
      "source": [
        "print(pay_aftertax)"
      ]
    },
    {
      "cell_type": "markdown",
      "metadata": {
        "id": "17SqWxUUHFl2"
      },
      "source": [
        "You will get the same error if you try to print `pay_pretax` or `num_hours`. For this reason, if you need any information from a function, you need to make sure that appears in the return statement at the end of the function.\n",
        "\n",
        "We refer to a variable's **scope** as the part of the code where it is accessible. Variables defined inside a function (like `pay_aftertax`) have a local scope of that function only. However, as you've seen, variables defined outside all functions (like `pay_parttime`) have a global scope and can be accessed anywhere."
      ]
    },
    {
      "cell_type": "markdown",
      "metadata": {
        "id": "BEcsFUnGH2O_"
      },
      "source": [
        "### Functions with multiple arguments\n",
        "\n",
        "So far, you have learned how to define a function with just one argument.  To define a function with multiple arguments, you only need to add more arguments inside the parentheses in the function head and separate them with a comma.\n",
        "\n",
        "We do this with the `get_pay_with_more_inputs()` function below, which calculates a weekly paycheck based on three arguments:\n",
        "- `num_hours` - number of hours worked in one week\n",
        "- `hourly_wage` - the hourly wage (in $/hour)\n",
        "- `tax_bracket` - percentage of your salary that is removed for taxes"
      ]
    },
    {
      "cell_type": "code",
      "execution_count": null,
      "metadata": {
        "id": "kCoAXPTlHBD4"
      },
      "outputs": [],
      "source": [
        "def get_pay_with_more_inputs(num_hours, hourly_wage, tax_bracket):\n",
        "    # Pre-tax pay\n",
        "    pay_pretax = num_hours * hourly_wage\n",
        "    # After-tax pay\n",
        "    pay_aftertax = pay_pretax * (1 - tax_bracket)\n",
        "    return pay_aftertax"
      ]
    },
    {
      "cell_type": "markdown",
      "metadata": {
        "id": "7CdmrVTWH8g8"
      },
      "source": [
        "Then, to call the function, you need to provide one value for each input, again separated by a comma.\n",
        "\n",
        "In the code cell below, we calculate the pay after taxes for someone who works 40 hours, makes $24/hour, and is in a 22% tax bracket."
      ]
    },
    {
      "cell_type": "code",
      "execution_count": null,
      "metadata": {
        "colab": {
          "base_uri": "https://localhost:8080/"
        },
        "id": "V6I2G3nzH_aA",
        "outputId": "7c979b68-f18f-4706-e224-814521d424c4"
      },
      "outputs": [
        {
          "name": "stdout",
          "output_type": "stream",
          "text": [
            "748.8000000000001\n"
          ]
        }
      ],
      "source": [
        "higher_pay_aftertax = get_pay_with_more_inputs(40, 24, .22)\n",
        "print(higher_pay_aftertax)"
      ]
    },
    {
      "cell_type": "markdown",
      "metadata": {
        "id": "geezL2WfICmh"
      },
      "source": [
        "The following code cell gives the same result as when we ran `get_pay(40)`, because `hourly_wage` is set to 15, and `tax_bracket` is set to 12%, which lines up with how we designed `get_pay`."
      ]
    },
    {
      "cell_type": "code",
      "execution_count": null,
      "metadata": {
        "colab": {
          "base_uri": "https://localhost:8080/"
        },
        "id": "gdrdSLEyIAi-",
        "outputId": "2bdceb7c-6e1d-432a-d710-8041406a103a"
      },
      "outputs": [
        {
          "name": "stdout",
          "output_type": "stream",
          "text": [
            "528.0\n"
          ]
        }
      ],
      "source": [
        "same_pay_fulltime = get_pay_with_more_inputs(40, 15, .12)\n",
        "print(same_pay_fulltime)"
      ]
    },
    {
      "cell_type": "markdown",
      "metadata": {
        "id": "NT91PufaIGXs"
      },
      "source": [
        "Depending on how we plan to use this new function `get_pay_with_more_inputs()`, it can be more useful than the original function `get_pay()`, because it addresses more cases.  Instead of potentially incorrectly assuming the hourly wage and tax bracket, the new function allows the user to specify the correct values.  But, if you're sure the hourly wage and tax bracket won't need to change, the new function is just more complicated than necessary.  In general, when defining functions, you'll need to consider how much flexibility you need, based on your use case.\n",
        "\n",
        "### Functions with no arguments\n",
        "\n",
        "Note that it's possible to define function with no arguments, and that don't have a return statement.  The `print_hello()` function in the code cell below is an example.  "
      ]
    },
    {
      "cell_type": "code",
      "execution_count": null,
      "metadata": {
        "colab": {
          "base_uri": "https://localhost:8080/"
        },
        "id": "ADQxgQ_mIEG5",
        "outputId": "21d9b093-afa2-47a3-d42d-c7272f68c923"
      },
      "outputs": [
        {
          "name": "stdout",
          "output_type": "stream",
          "text": [
            "Hello!\n",
            "Good morning!\n"
          ]
        }
      ],
      "source": [
        "# Define the function with no arguments and with no return\n",
        "def print_hello():\n",
        "    print(\"Hello!\")\n",
        "    print(\"Good morning!\")\n",
        "\n",
        "# Call the function\n",
        "print_hello()"
      ]
    },
    {
      "cell_type": "markdown",
      "metadata": {
        "id": "n5vrJNoJPjJp"
      },
      "source": [
        "### 👟 Exercise"
      ]
    },
    {
      "cell_type": "markdown",
      "metadata": {
        "id": "UHTesCu3MM4F"
      },
      "source": [
        "**Question**\n",
        "\n",
        "In the House Prices Prediction ML Application, you need to use information like the number of bedrooms and bathrooms to predict the price of a house.  Inspired by this, you'll write your own function to do this.\n",
        "\n",
        "In the next code cell, create a function `get_expected_cost()` that has two arguments:\n",
        "- `beds` - number of bedrooms\n",
        "- `baths` - number of bathrooms\n",
        "\n",
        "It should return the expected cost of a house with that number of bedrooms and bathrooms.  Assume that:\n",
        "- the expected cost for a house with 0 bedrooms and 0 bathrooms is `80000`.  \n",
        "- each bedroom adds `30000` to the expected cost\n",
        "- each bathroom adds `10000` to the expected cost.\n",
        "\n",
        "For instance,\n",
        "- a house with 1 bedroom and 1 bathroom has an expected cost of `120000`, and\n",
        "- a house with 2 bedrooms and 1 bathroom has an expected cost of `150000`."
      ]
    },
    {
      "cell_type": "code",
      "execution_count": null,
      "metadata": {
        "id": "M1l6rBJhMNXi"
      },
      "outputs": [],
      "source": [
        "# TODO: Complete the function\n",
        "def get_expected_cost(beds, baths):\n",
        "    value = 80000 + 30000 * beds + 10000 * baths\n",
        "    return value"
      ]
    },
    {
      "cell_type": "markdown",
      "metadata": {
        "id": "LP0ZdXGvMyHm"
      },
      "source": [
        "You are thinking about buying a home and want to get an idea of how much you will spend, based on the number of bedrooms and bathrooms.  You are trying to decide between four different options:\n",
        "- Option 1: house with two bedrooms and three bathrooms\n",
        "- Option 2: house with three bedrooms and two bathrooms\n",
        "- Option 3: house with three bedrooms and three bathrooms\n",
        "- Option 4: house with three bedrooms and four bathrooms\n",
        "\n",
        "Use the `get_expected_cost()` function you defined in question 1 to set `option_1`, `option_2`, `option_3`, and `option_4` to the expected cost of each option."
      ]
    },
    {
      "cell_type": "code",
      "execution_count": null,
      "metadata": {
        "colab": {
          "base_uri": "https://localhost:8080/"
        },
        "id": "OKD3C8c9Mtm0",
        "outputId": "e37d9bf6-30a8-4bc4-87c6-580efdc69526"
      },
      "outputs": [
        {
          "name": "stdout",
          "output_type": "stream",
          "text": [
            "170000\n",
            "190000\n",
            "200000\n",
            "210000\n"
          ]
        }
      ],
      "source": [
        "# TODO: Use the get_expected_cost function to fill in each value\n",
        "option_one = get_expected_cost(2, 3)\n",
        "option_two = get_expected_cost(3, 2)\n",
        "option_three = get_expected_cost(3, 3)\n",
        "option_four = get_expected_cost(3, 4)\n",
        "\n",
        "print(option_one)\n",
        "print(option_two)\n",
        "print(option_three)\n",
        "print(option_four)"
      ]
    },
    {
      "cell_type": "markdown",
      "metadata": {
        "id": "IOopEsacM8TK"
      },
      "source": [
        "**Question**\n",
        "\n",
        "You're a home decorator, and you'd like to use Python to streamline some of your work.  Specifically, you're creating a tool that you intend to use to calculate the cost of painting a room.\n",
        "\n",
        "As a first step, define a function `get_cost()` that takes as input:\n",
        "- `sqft_walls` = total square feet of walls to be painted\n",
        "- `sqft_ceiling` = square feet of ceiling to be painted\n",
        "- `sqft_per_gallon` = number of square feet that you can cover with one gallon of paint\n",
        "- `cost_per_gallon` = cost (in dollars) of one gallon of paint\n",
        "\n",
        "It should return the cost (in dollars) of putting one coat of paint on all walls and the ceiling.  Assume you can buy the exact amount of paint that you need, so you can buy partial gallons (e.g., if you need 7.523 gallons, you can buy that exact amount, instead of needing to buy 8 gallons and waste some paint).  Do not round your answer."
      ]
    },
    {
      "cell_type": "code",
      "execution_count": null,
      "metadata": {
        "id": "sMfDb46fM3nb"
      },
      "outputs": [],
      "source": [
        "# TODO: Finish defining the function\n",
        "def get_cost(sqft_walls, sqft_ceiling, sqft_per_gallon, cost_per_gallon):\n",
        "    total_sqft = sqft_walls + sqft_ceiling\n",
        "    gallons_needed = total_sqft / sqft_per_gallon\n",
        "    cost = cost_per_gallon * gallons_needed\n",
        "    return cost"
      ]
    },
    {
      "cell_type": "markdown",
      "metadata": {
        "id": "E_VookZJM_Qg"
      },
      "source": [
        "Use the `get_cost()` function you defined above to calculate the cost of applying one coat of paint to a room with:\n",
        "- 432 square feet of walls, and\n",
        "- 144 square feet of ceiling.\n",
        "\n",
        "Assume that one gallon of paint covers 400 square feet and costs $15.  As above, assume you can buy partial gallons of paint.  Do not round your answer."
      ]
    },
    {
      "cell_type": "code",
      "execution_count": null,
      "metadata": {
        "colab": {
          "base_uri": "https://localhost:8080/"
        },
        "id": "-7P33IT9NU56",
        "outputId": "8ec11ea9-99d5-4713-ca91-cc8fe7128054"
      },
      "outputs": [
        {
          "name": "stdout",
          "output_type": "stream",
          "text": [
            "21.599999999999998\n"
          ]
        }
      ],
      "source": [
        "# TODO: Set the project_cost variable to the cost of the project\n",
        "project_cost = get_cost(432, 144, 400, 15)\n",
        "\n",
        "print(project_cost)"
      ]
    },
    {
      "cell_type": "markdown",
      "metadata": {
        "id": "IBKWKGXQNbRv"
      },
      "source": [
        "#### 🔥 Optional Challenge\n",
        "\n",
        "Now say you can no longer buy fractions of a gallon.  (For instance, if you need 4.3 gallons to do a project, then you have to buy 5 gallons of paint.)\n",
        "\n",
        "With this new scenario, you will create a new function `get_actual_cost` that uses the same inputs and calculates the cost of your project.\n",
        "\n",
        "One function that you'll need to use to do this is `math.ceil()`.  We demonstrate usage of this function in the code cell below.  It takes as a number as input and rounds the number up to the nearest integer.  \n",
        "\n",
        "Run the next code cell to test this function for yourself.  Feel free to change the value of `test_value` and make sure `math.ceil()` returns the number you expect."
      ]
    },
    {
      "cell_type": "code",
      "execution_count": null,
      "metadata": {
        "colab": {
          "base_uri": "https://localhost:8080/"
        },
        "id": "b7lbNwJWNvjJ",
        "outputId": "5c09234d-df98-417e-82eb-cf0741299907"
      },
      "outputs": [
        {
          "name": "stdout",
          "output_type": "stream",
          "text": [
            "3\n"
          ]
        }
      ],
      "source": [
        "# Importing the 'math' submodule\n",
        "import math\n",
        "\n",
        "test_value = 2.17\n",
        "\n",
        "rounded_value = math.ceil(test_value)\n",
        "print(rounded_value)"
      ]
    },
    {
      "cell_type": "markdown",
      "metadata": {
        "id": "llUQxqS0OQJD"
      },
      "source": [
        "Use the next code cell to define the function `get_actual_cost()`.  You'll need to use the `math.ceil()` function to do this."
      ]
    },
    {
      "cell_type": "code",
      "execution_count": null,
      "metadata": {
        "id": "FKkIq2JTOAoF"
      },
      "outputs": [],
      "source": [
        "def get_actual_cost(sqft_walls, sqft_ceiling, sqft_per_gallon, cost_per_gallon):\n",
        "    total_sqft = sqft_walls + sqft_ceiling\n",
        "    gallons_needed = total_sqft / sqft_per_gallon\n",
        "    gallons_to_buy = math.ceil(gallons_needed)\n",
        "    cost = cost_per_gallon * gallons_to_buy\n",
        "    return cost"
      ]
    },
    {
      "cell_type": "markdown",
      "metadata": {
        "id": "vlUe736FOb46"
      },
      "source": [
        "Once your function is verified as correct, run the next code cell to calculate the updated cost of your project."
      ]
    },
    {
      "cell_type": "code",
      "execution_count": null,
      "metadata": {
        "id": "xDRsyT4yOce4"
      },
      "outputs": [],
      "source": [
        "get_actual_cost(432, 144, 400, 15)"
      ]
    },
    {
      "cell_type": "markdown",
      "metadata": {
        "id": "CpbjIhKiOebn"
      },
      "source": [
        "Say you're working with a slightly larger room.  Run the next code cell to calculate the cost of the project."
      ]
    },
    {
      "cell_type": "code",
      "execution_count": null,
      "metadata": {
        "id": "AzFvAc9ZOgE1"
      },
      "outputs": [],
      "source": [
        "get_actual_cost(594, 288, 400, 15)"
      ]
    },
    {
      "cell_type": "markdown",
      "metadata": {
        "id": "PwdhApExPlit"
      },
      "source": [
        "## 💿 Data Types"
      ]
    },
    {
      "cell_type": "markdown",
      "metadata": {
        "id": "TLBnYCpYEZAI"
      },
      "source": [
        "Whenever you create a variable in Python, it has a value with a corresponding data type.  There are many different data types, such as integers, floats, booleans, and strings, all of which we'll cover in this part.  (This is just a small subset of the available data types -- there are also dictionaries, sets, lists, tuples, and much more.)\n",
        "\n",
        "Data types are important, because they determine what kinds of actions you can do with them.  For instance, you can divide two floats, but you cannot divide two strings.  For instance, `12.0/2.0` makes sense, but `\"cat\"/\"dog\"` does not.\n",
        "\n",
        "To avoid errors, we need to make sure that the actions match the data types that we have.\n",
        "\n",
        "### Integers\n",
        "\n",
        "Integers are numbers without any fractional part and can be positive (`1`, `2`, `3`, ...), negative (`-1`, `-2`, `-3`, ...), or zero (`0`).    \n",
        "\n",
        "In the code cell below, we set a variable `x` to an integer.  We then verify the data type with `type()`, and need only pass the variable name into the parentheses."
      ]
    },
    {
      "cell_type": "code",
      "execution_count": null,
      "metadata": {
        "colab": {
          "base_uri": "https://localhost:8080/"
        },
        "id": "JZJ9Z8WxIJhi",
        "outputId": "e0fa6651-a420-43b6-8f3a-01d53578b362"
      },
      "outputs": [
        {
          "name": "stdout",
          "output_type": "stream",
          "text": [
            "14\n",
            "<class 'int'>\n"
          ]
        }
      ],
      "source": [
        "x = 14\n",
        "print(x)\n",
        "print(type(x))"
      ]
    },
    {
      "cell_type": "markdown",
      "metadata": {
        "id": "RmzJvETtEpST"
      },
      "source": [
        "In the output above, `<class 'int'>` refers to the **int**eger data type.\n",
        "\n",
        "### Floats\n",
        "\n",
        "Floats are numbers with fractional parts. They can have many numbers after decimal."
      ]
    },
    {
      "cell_type": "code",
      "execution_count": null,
      "metadata": {
        "colab": {
          "base_uri": "https://localhost:8080/"
        },
        "id": "zLj2tm_yEnhc",
        "outputId": "38490b18-0b69-4416-e23d-0e0f1f05e34c"
      },
      "outputs": [
        {
          "name": "stdout",
          "output_type": "stream",
          "text": [
            "3.141592653589793\n",
            "<class 'float'>\n"
          ]
        }
      ],
      "source": [
        "nearly_pi = 3.141592653589793238462643383279502884197169399375105820974944\n",
        "print(nearly_pi)\n",
        "print(type(nearly_pi))"
      ]
    },
    {
      "cell_type": "markdown",
      "metadata": {
        "id": "DVdLD-ACEvyd"
      },
      "source": [
        "We can also specify a float with a fraction."
      ]
    },
    {
      "cell_type": "code",
      "execution_count": null,
      "metadata": {
        "colab": {
          "base_uri": "https://localhost:8080/"
        },
        "id": "o5-BBwy8EtyE",
        "outputId": "2625f938-681d-4a8e-8cd7-5a9d24e0068f"
      },
      "outputs": [
        {
          "name": "stdout",
          "output_type": "stream",
          "text": [
            "3.142857142857143\n",
            "<class 'float'>\n"
          ]
        }
      ],
      "source": [
        "almost_pi = 22/7\n",
        "print(almost_pi)\n",
        "print(type(almost_pi))"
      ]
    },
    {
      "cell_type": "markdown",
      "metadata": {
        "id": "oEyDpfHME19x"
      },
      "source": [
        "One function that is particularly useful for fractions is the `round()` function.  It lets you round a number to a specified number of decimal places.  "
      ]
    },
    {
      "cell_type": "code",
      "execution_count": null,
      "metadata": {
        "colab": {
          "base_uri": "https://localhost:8080/"
        },
        "id": "-tyTs8BfEyFV",
        "outputId": "8271eb06-221b-4acc-c625-640114340301"
      },
      "outputs": [
        {
          "name": "stdout",
          "output_type": "stream",
          "text": [
            "3.14286\n",
            "<class 'float'>\n"
          ]
        }
      ],
      "source": [
        "# Round to 5 decimal places\n",
        "rounded_pi = round(almost_pi, 5)\n",
        "print(rounded_pi)\n",
        "print(type(rounded_pi))"
      ]
    },
    {
      "cell_type": "markdown",
      "metadata": {
        "id": "5jycRB_7E6xk"
      },
      "source": [
        "Whenever you write an number with a decimal point, Python recognizes it as a float data type.  \n",
        "\n",
        "For instance, `1.` (or `1.0`, `1.00`, etc) will be recognized as a float.  This is the case, even though these numbers technically have no fractional part!"
      ]
    },
    {
      "cell_type": "code",
      "execution_count": null,
      "metadata": {
        "colab": {
          "base_uri": "https://localhost:8080/"
        },
        "id": "dteWWJn2E4Rb",
        "outputId": "d598fe53-403c-4658-b798-2a45aeb4b7f1"
      },
      "outputs": [
        {
          "name": "stdout",
          "output_type": "stream",
          "text": [
            "1.0\n",
            "<class 'float'>\n"
          ]
        }
      ],
      "source": [
        "y_float = 1.\n",
        "print(y_float)\n",
        "print(type(y_float))"
      ]
    },
    {
      "cell_type": "markdown",
      "metadata": {
        "id": "7x1FzfuuHYnG"
      },
      "source": [
        "You have seen how to convert a float to an integer with the `int` function.  Try this out yourself by running the code cell below."
      ]
    },
    {
      "cell_type": "code",
      "execution_count": null,
      "metadata": {
        "colab": {
          "base_uri": "https://localhost:8080/"
        },
        "id": "MMI7C6ZTHVWH",
        "outputId": "c77c10a5-477e-4833-e77b-618dfe4b9e95"
      },
      "outputs": [
        {
          "name": "stdout",
          "output_type": "stream",
          "text": [
            "1.0\n",
            "<class 'float'>\n",
            "1\n",
            "<class 'int'>\n"
          ]
        }
      ],
      "source": [
        "# Define a float\n",
        "y = 1.\n",
        "print(y)\n",
        "print(type(y))\n",
        "\n",
        "# Convert float to integer with the int function\n",
        "z = int(y)\n",
        "print(z)\n",
        "print(type(z))"
      ]
    },
    {
      "cell_type": "markdown",
      "metadata": {
        "id": "XhjV3uHJHbNy"
      },
      "source": [
        "In this case, the float you are using has no numbers after the decimal.\n",
        "\n",
        "**Question**\n",
        "\n",
        "- But what happens when you try to convert a float with a fractional part to an integer?  \n",
        "- How does the outcome of the `int` function change for positive and negative numbers?\n",
        "\n",
        "Use the next code cell to investigate and answer these questions.  Feel free to add or remove any lines of code!"
      ]
    },
    {
      "cell_type": "code",
      "execution_count": null,
      "metadata": {
        "colab": {
          "base_uri": "https://localhost:8080/"
        },
        "id": "Ovxiwb2sHh44",
        "outputId": "498741b3-a9a8-46b8-e7ab-eb2fc7ed4dfc"
      },
      "outputs": [
        {
          "name": "stdout",
          "output_type": "stream",
          "text": [
            "1\n",
            "1\n",
            "-3\n",
            "-2\n"
          ]
        }
      ],
      "source": [
        "print(int(1.2321))\n",
        "print(int(1.747))\n",
        "print(int(-3.94535))\n",
        "print(int(-2.19774))"
      ]
    },
    {
      "cell_type": "markdown",
      "metadata": {
        "id": "IeOtmk_wHk8J"
      },
      "source": [
        "Negative floats are always rounded UP to the closest integer (for instance, both `-1.1` and `-1.9` are rounded up to `-1`). Positive floats are always rounded DOWN to the closest integer (for instance, `2.1` and `2.9` are rounded down to `2`)."
      ]
    },
    {
      "cell_type": "markdown",
      "metadata": {
        "id": "mV45KtEvE_jz"
      },
      "source": [
        "### Booleans\n",
        "\n",
        "Booleans represent one of two values: `True` or `False`.  In the code cell below, `z_one` is set to a boolean with value `True`."
      ]
    },
    {
      "cell_type": "code",
      "execution_count": null,
      "metadata": {
        "colab": {
          "base_uri": "https://localhost:8080/"
        },
        "id": "H8Xcw8-iE8d8",
        "outputId": "911b66d6-53bd-47aa-c06f-8223fbd79994"
      },
      "outputs": [
        {
          "name": "stdout",
          "output_type": "stream",
          "text": [
            "True\n",
            "<class 'bool'>\n"
          ]
        }
      ],
      "source": [
        "z_one = True\n",
        "print(z_one)\n",
        "print(type(z_one))"
      ]
    },
    {
      "cell_type": "markdown",
      "metadata": {
        "id": "4-LWOyT2FDfY"
      },
      "source": [
        "Next, `z_two` is set to a boolean with value `False`."
      ]
    },
    {
      "cell_type": "code",
      "execution_count": null,
      "metadata": {
        "colab": {
          "base_uri": "https://localhost:8080/"
        },
        "id": "TU3NfcUcFCCk",
        "outputId": "6da9270d-a42d-4c6f-db37-d2a95f48c3e9"
      },
      "outputs": [
        {
          "name": "stdout",
          "output_type": "stream",
          "text": [
            "False\n",
            "<class 'bool'>\n"
          ]
        }
      ],
      "source": [
        "z_two = False\n",
        "print(z_two)\n",
        "print(type(z_two))"
      ]
    },
    {
      "cell_type": "markdown",
      "metadata": {
        "id": "4x3LwZdMFGzY"
      },
      "source": [
        "Booleans are used to represent the truth value of an expression.  Since `1 < 2` is a true statement, `z_three` takes on a value of `True`."
      ]
    },
    {
      "cell_type": "code",
      "execution_count": null,
      "metadata": {
        "colab": {
          "base_uri": "https://localhost:8080/"
        },
        "id": "S47_jGyJFE9X",
        "outputId": "06358aa2-794f-4501-f6a7-72e61abd1798"
      },
      "outputs": [
        {
          "name": "stdout",
          "output_type": "stream",
          "text": [
            "True\n",
            "<class 'bool'>\n"
          ]
        }
      ],
      "source": [
        "z_three = (1 < 2)\n",
        "print(z_three)\n",
        "print(type(z_three))"
      ]
    },
    {
      "cell_type": "markdown",
      "metadata": {
        "id": "CTNNTIVFFLJv"
      },
      "source": [
        "Similarly, since `5 < 3` is a false statement, `z_four` takes on a value of `False`."
      ]
    },
    {
      "cell_type": "code",
      "execution_count": null,
      "metadata": {
        "colab": {
          "base_uri": "https://localhost:8080/"
        },
        "id": "jiK8VXURFJfk",
        "outputId": "7f7b401c-67f1-4eb0-f382-419f31d796ec"
      },
      "outputs": [
        {
          "name": "stdout",
          "output_type": "stream",
          "text": [
            "False\n",
            "<class 'bool'>\n"
          ]
        }
      ],
      "source": [
        "z_four = (5 < 3)\n",
        "print(z_four)\n",
        "print(type(z_four))"
      ]
    },
    {
      "cell_type": "markdown",
      "metadata": {
        "id": "sqFUrAXSFOly"
      },
      "source": [
        "We can switch the value of a boolean by using `not`.  So, `not True` is equivalent to `False`, and `not False` becomes `True`."
      ]
    },
    {
      "cell_type": "code",
      "execution_count": null,
      "metadata": {
        "colab": {
          "base_uri": "https://localhost:8080/"
        },
        "id": "ISi_ykpaFMnN",
        "outputId": "1e8e8c39-76fc-4999-82cc-a024b52c40a6"
      },
      "outputs": [
        {
          "name": "stdout",
          "output_type": "stream",
          "text": [
            "True\n",
            "<class 'bool'>\n"
          ]
        }
      ],
      "source": [
        "z_five = not z_four\n",
        "print(z_five)\n",
        "print(type(z_five))"
      ]
    },
    {
      "cell_type": "markdown",
      "metadata": {
        "id": "jeE3PR0qHzIf"
      },
      "source": [
        "Booleans will be important in the next part, when you learn about conditions and conditional statements.\n",
        "\n",
        "**Question**\n",
        "\n",
        "Now, your goal is to determine what happens when you multiply a boolean by any of these data types.  Specifically,\n",
        "- What happens when you multiply an integer or float by `True`?  What happens when you multiply them by `False`?  How does the answer change if the numbers are positive or negative?\n",
        "- What happens when you multiply a string by `True`?  By `False`?\n",
        "\n",
        "Use the next code cell for your investigation."
      ]
    },
    {
      "cell_type": "code",
      "execution_count": null,
      "metadata": {
        "colab": {
          "base_uri": "https://localhost:8080/"
        },
        "id": "cuOrQl3HH5JI",
        "outputId": "8a243ec4-cd16-4575-89c2-d66b2820f248"
      },
      "outputs": [
        {
          "name": "stdout",
          "output_type": "stream",
          "text": [
            "3\n",
            "-3.1\n",
            "<class 'str'>\n",
            "0\n"
          ]
        }
      ],
      "source": [
        "print(3 * True)\n",
        "print(-3.1 * True)\n",
        "print(type(\"abc\" * False))\n",
        "print(len(\"abc\" * False))"
      ]
    },
    {
      "cell_type": "markdown",
      "metadata": {
        "id": "P1TMaq7yIRuT"
      },
      "source": [
        "When you multiple an integer or float by a boolean with value `True`, it just returns that same integer or float (and is equivalent to multiplying by 1).  If you multiply an integer or float by a boolean with value `False`, it always returns 0.  This is true for both positive and negative numbers.  If you multiply a string by a boolean with value `True`, it just returns that same string.  And if you multiply a string by a boolean with value `False`, it returns an empty string (or a string with length zero)."
      ]
    },
    {
      "cell_type": "markdown",
      "metadata": {
        "id": "umE33AgVFR6B"
      },
      "source": [
        "### Strings\n",
        "\n",
        "The string data type is a collection of characters (like alphabet letters, punctuation, numerical digits, or symbols) contained in quotation marks.  Strings are commonly used to represent text."
      ]
    },
    {
      "cell_type": "code",
      "execution_count": null,
      "metadata": {
        "colab": {
          "base_uri": "https://localhost:8080/"
        },
        "id": "qgXIMcJEFP5Y",
        "outputId": "f3291af1-45a5-4e8f-944b-e9c1e67e35f5"
      },
      "outputs": [
        {
          "name": "stdout",
          "output_type": "stream",
          "text": [
            "Hello, Python!\n",
            "<class 'str'>\n"
          ]
        }
      ],
      "source": [
        "w = \"Hello, Python!\"\n",
        "print(w)\n",
        "print(type(w))"
      ]
    },
    {
      "cell_type": "markdown",
      "metadata": {
        "id": "d79SlBotFYjU"
      },
      "source": [
        "You can get the length of a string with `len()`.  `\"Hello, Python!\"` has length 14, because it has 14 characters, including the space, comma, and exclamation mark.  Note that the quotation marks are not included when calculating the length."
      ]
    },
    {
      "cell_type": "code",
      "execution_count": null,
      "metadata": {
        "colab": {
          "base_uri": "https://localhost:8080/"
        },
        "id": "VMM8EFvsFWRq",
        "outputId": "b1a751ad-846f-475d-9167-c34c46780486"
      },
      "outputs": [
        {
          "name": "stdout",
          "output_type": "stream",
          "text": [
            "14\n"
          ]
        }
      ],
      "source": [
        "print(len(w))"
      ]
    },
    {
      "cell_type": "markdown",
      "metadata": {
        "id": "wt8ZgpwsFbje"
      },
      "source": [
        "One special type of string is the empty string, which has length zero."
      ]
    },
    {
      "cell_type": "code",
      "execution_count": null,
      "metadata": {
        "colab": {
          "base_uri": "https://localhost:8080/"
        },
        "id": "eqcHtdb4FaKW",
        "outputId": "00dd41bb-c37e-438d-ec3b-7acbc6f4ccbb"
      },
      "outputs": [
        {
          "name": "stdout",
          "output_type": "stream",
          "text": [
            "<class 'str'>\n",
            "0\n"
          ]
        }
      ],
      "source": [
        "shortest_string = \"\"\n",
        "print(type(shortest_string))\n",
        "print(len(shortest_string))"
      ]
    },
    {
      "cell_type": "markdown",
      "metadata": {
        "id": "J7Y9E038FeTi"
      },
      "source": [
        "If you put a number in quotation marks, it has a string data type."
      ]
    },
    {
      "cell_type": "code",
      "execution_count": null,
      "metadata": {
        "colab": {
          "base_uri": "https://localhost:8080/"
        },
        "id": "OUh9I4t1Fcui",
        "outputId": "6436009d-7043-49f1-8887-b414198e3cfb"
      },
      "outputs": [
        {
          "name": "stdout",
          "output_type": "stream",
          "text": [
            "1.12321\n",
            "<class 'str'>\n"
          ]
        }
      ],
      "source": [
        "my_number = \"1.12321\"\n",
        "print(my_number)\n",
        "print(type(my_number))"
      ]
    },
    {
      "cell_type": "markdown",
      "metadata": {
        "id": "qHFTx6QIFh11"
      },
      "source": [
        "If we have a string that is convertible to a float, we can use `float()`.  \n",
        "\n",
        "This won't always work!  For instance, we can convert `\"10.43430\"` and `\"3\"` to floats, but we cannot convert `\"Hello, Python!\"` to a float."
      ]
    },
    {
      "cell_type": "code",
      "execution_count": null,
      "metadata": {
        "colab": {
          "base_uri": "https://localhost:8080/"
        },
        "id": "o2iDuD9oFfqx",
        "outputId": "d2a1cbc5-388e-4554-ec9b-0de37c779848"
      },
      "outputs": [
        {
          "name": "stdout",
          "output_type": "stream",
          "text": [
            "1.12321\n",
            "<class 'float'>\n"
          ]
        }
      ],
      "source": [
        "also_my_number = float(my_number)\n",
        "print(also_my_number)\n",
        "print(type(also_my_number))"
      ]
    },
    {
      "cell_type": "markdown",
      "metadata": {
        "id": "0hYNcuv7FlYY"
      },
      "source": [
        "Just like you can add two numbers (floats or integers), you can also add two strings.  It results in a longer string that combines the two original strings by concatenating them."
      ]
    },
    {
      "cell_type": "code",
      "execution_count": null,
      "metadata": {
        "colab": {
          "base_uri": "https://localhost:8080/"
        },
        "id": "rESbAMKWFjiM",
        "outputId": "b2706b27-aeb9-47f0-f77e-1b853251ff48"
      },
      "outputs": [
        {
          "name": "stdout",
          "output_type": "stream",
          "text": [
            "abcdef\n",
            "<class 'str'>\n"
          ]
        }
      ],
      "source": [
        "new_string = \"abc\" + \"def\"\n",
        "print(new_string)\n",
        "print(type(new_string))"
      ]
    },
    {
      "cell_type": "markdown",
      "metadata": {
        "id": "KuI_yoqPFpmr"
      },
      "source": [
        "Note that it's not possible to do subtraction or division with two strings.  You also can't multiply two strings, but you can multiply a string by an integer.  This again results in a string that's just the original string concatenated with itself a specified number of times."
      ]
    },
    {
      "cell_type": "code",
      "execution_count": null,
      "metadata": {
        "colab": {
          "base_uri": "https://localhost:8080/"
        },
        "id": "d8PU7j_TFmmZ",
        "outputId": "74e5aace-3245-4246-bcb8-7e284f5ed958"
      },
      "outputs": [
        {
          "name": "stdout",
          "output_type": "stream",
          "text": [
            "abcabcabc\n",
            "<class 'str'>\n"
          ]
        }
      ],
      "source": [
        "newest_string = \"abc\" * 3\n",
        "print(newest_string)\n",
        "print(type(newest_string))"
      ]
    },
    {
      "cell_type": "markdown",
      "metadata": {
        "id": "FK4SouWiFsYj"
      },
      "source": [
        "Note that you cannot multiply a string by a float!  Trying to do so will return an error."
      ]
    },
    {
      "cell_type": "code",
      "execution_count": null,
      "metadata": {
        "colab": {
          "base_uri": "https://localhost:8080/",
          "height": 139
        },
        "id": "PqWuyBHIFqx1",
        "outputId": "17f577db-7163-4cc6-e181-d70009355d0f"
      },
      "outputs": [
        {
          "ename": "TypeError",
          "evalue": "can't multiply sequence by non-int of type 'float'",
          "output_type": "error",
          "traceback": [
            "\u001b[0;31m---------------------------------------------------------------------------\u001b[0m",
            "\u001b[0;31mTypeError\u001b[0m                                 Traceback (most recent call last)",
            "\u001b[0;32m<ipython-input-18-3223ab8875cd>\u001b[0m in \u001b[0;36m<cell line: 1>\u001b[0;34m()\u001b[0m\n\u001b[0;32m----> 1\u001b[0;31m \u001b[0mwill_not_work\u001b[0m \u001b[0;34m=\u001b[0m \u001b[0;34m\"abc\"\u001b[0m \u001b[0;34m*\u001b[0m \u001b[0;36m3.0\u001b[0m\u001b[0;34m\u001b[0m\u001b[0;34m\u001b[0m\u001b[0m\n\u001b[0m",
            "\u001b[0;31mTypeError\u001b[0m: can't multiply sequence by non-int of type 'float'"
          ]
        }
      ],
      "source": [
        "will_not_work = \"abc\" * 3.0"
      ]
    },
    {
      "cell_type": "markdown",
      "metadata": {
        "id": "6sYjD7rUFzaV"
      },
      "source": [
        "### 👟 Exercise"
      ]
    },
    {
      "cell_type": "markdown",
      "metadata": {
        "id": "QlvRGVCmIrsf"
      },
      "source": [
        "In this question, you will write a function that estimates the value of a house.\n",
        "\n",
        "Use the next code cell to create a function `get_expected_cost` that takes as input three variables:\n",
        "- `beds` - number of bedrooms (data type float)\n",
        "- `baths` - number of bathrooms (data type float)\n",
        "- `has_basement` - whether or not the house has a basement (data type boolean)\n",
        "\n",
        "It should return the expected cost of a house with those characteristics. Assume that:\n",
        "- the expected cost for a house with 0 bedrooms and 0 bathrooms, and no basement is 80000,\n",
        "- each bedroom adds 30000 to the expected cost,\n",
        "- each bathroom adds 10000 to the expected cost, and\n",
        "- a basement adds 40000 to the expected cost.\n",
        "\n",
        "For instance,\n",
        "- a house with 1 bedroom, 1 bathroom, and no basement has an expected cost of 80000 + 30000 + 10000 = 120000.  This value will be calculated with `get_expected_cost(1, 1, False)`.\n",
        "- a house with 2 bedrooms, 1 bathroom, and a basement has an expected cost of 80000 + 2*30000 + 10000 + 40000 = 190000.  This value will be calculated with `get_expected_cost(2, 1, True)`."
      ]
    },
    {
      "cell_type": "code",
      "execution_count": null,
      "metadata": {
        "id": "Ksvihu4CFtr5"
      },
      "outputs": [],
      "source": [
        "# TODO: Complete the function\n",
        "def get_expected_cost(beds, baths, has_basement):\n",
        "    value = 80000 + 30000 * beds + 10000 * baths + 40000 * has_basement\n",
        "    return value"
      ]
    },
    {
      "cell_type": "code",
      "execution_count": null,
      "metadata": {
        "id": "WPw3fJSuI9f2"
      },
      "outputs": [],
      "source": [
        "get_expected_cost(1, 1, False)"
      ]
    },
    {
      "cell_type": "code",
      "execution_count": null,
      "metadata": {
        "id": "ZIYidojWI953"
      },
      "outputs": [],
      "source": [
        "get_expected_cost(2, 1, True)"
      ]
    },
    {
      "cell_type": "markdown",
      "metadata": {
        "id": "q2jTtHhpIy80"
      },
      "source": [
        "#### 🔥 Optional Challenge\n",
        "\n",
        "You own an online shop where you sell rings with custom engravings.  You offer both gold plated and solid gold rings.\n",
        "- Gold plated rings have a base cost of \\\\$50, and you charge \\\\$7 per engraved unit.  \n",
        "- Solid gold rings have a base cost of \\\\$100, and you charge \\\\$10 per engraved unit.\n",
        "- Spaces and punctuation are counted as engraved units.\n",
        "\n",
        "Write a function `cost_of_project()` that takes two arguments:\n",
        "- `engraving` - a Python string with the text of the engraving\n",
        "- `solid_gold` - a Boolean that indicates whether the ring is solid gold\n",
        "\n",
        "It should return the cost of the project. This question should be fairly challenging."
      ]
    },
    {
      "cell_type": "code",
      "execution_count": null,
      "metadata": {
        "id": "yM96OxOAJo0L"
      },
      "outputs": [],
      "source": [
        "def cost_of_project(engraving, solid_gold):\n",
        "    cost = solid_gold * (100 + 10 * len(engraving)) + (not solid_gold) * (50 + 7 * len(engraving))\n",
        "    return cost"
      ]
    },
    {
      "cell_type": "markdown",
      "metadata": {
        "id": "pERi0NqNJ5tu"
      },
      "source": [
        "Run the next code cell to calculate the cost of engraving `Charlie+Denver` on a solid gold ring."
      ]
    },
    {
      "cell_type": "code",
      "execution_count": null,
      "metadata": {
        "colab": {
          "base_uri": "https://localhost:8080/"
        },
        "id": "07UBYyLhJ2Me",
        "outputId": "8ac7ede7-9b6f-47a7-80e5-984591167d13"
      },
      "outputs": [
        {
          "name": "stdout",
          "output_type": "stream",
          "text": [
            "240\n"
          ]
        }
      ],
      "source": [
        "project_one = cost_of_project(\"Charlie+Denver\", True)\n",
        "print(project_one)"
      ]
    },
    {
      "cell_type": "markdown",
      "metadata": {
        "id": "cQBFPVJuJ8ic"
      },
      "source": [
        "Use the next code cell to calculate the cost of engraving `08/10/2000` on a gold plated ring."
      ]
    },
    {
      "cell_type": "code",
      "execution_count": null,
      "metadata": {
        "colab": {
          "base_uri": "https://localhost:8080/"
        },
        "id": "w0PQ-ny2J32O",
        "outputId": "2475fc23-42d0-478c-ad96-c3efd4071e4c"
      },
      "outputs": [
        {
          "name": "stdout",
          "output_type": "stream",
          "text": [
            "120\n"
          ]
        }
      ],
      "source": [
        "project_two = cost_of_project(\"08/10/2000\", False)\n",
        "print(project_two)"
      ]
    },
    {
      "cell_type": "markdown",
      "metadata": {
        "id": "7uU6lRhEqCLB"
      },
      "source": [
        "## 🤔 Conditions and Conditional Statements\n",
        "\n",
        "You have already seen that when you change the input value to a function, you often get a different output.  For instance, consider an `add_five()` function that just adds five to any number and returns the result.  Then `add_five(7)` will return an output of 12 (=7+5), and `add_five(8)` will return an output of 13 (=8+5).  Note that no matter what the input is, the action that the function performs is always the same: it always adds five.\n",
        "\n",
        "But you might instead need a function that performs an action that depends on the input.  For instance, you might need a function `add_three_or_eight()` that adds three if the input is less than 10, and adds eight if the input is 10 or more.  Then `add_three_or_eight(1)` will return 4 (= 1+3), but `add_three_or_eight(11)` will return 19 (=11+8).  In this case, the action that the function performs varies with the input.\n",
        "\n",
        "In this part, you will learn how to use conditions and conditional statements to modify how your functions run."
      ]
    },
    {
      "cell_type": "markdown",
      "metadata": {
        "id": "GhmNJYoqrcsw"
      },
      "source": [
        "### Conditions\n",
        "\n",
        "In programming, **conditions** are statements that are either `True` or `False`.  There are many different ways to write conditions in Python, but some of the most common ways of writing conditions just compare two different values.  For instance, you can check if 2 is greater than 3."
      ]
    },
    {
      "cell_type": "code",
      "execution_count": null,
      "metadata": {
        "colab": {
          "base_uri": "https://localhost:8080/"
        },
        "id": "VjGR1BrgKAwN",
        "outputId": "8af86767-046f-43c8-cd4a-ce7021b01ea2"
      },
      "outputs": [
        {
          "name": "stdout",
          "output_type": "stream",
          "text": [
            "False\n"
          ]
        }
      ],
      "source": [
        "print(2 > 3)"
      ]
    },
    {
      "cell_type": "markdown",
      "metadata": {
        "id": "BH9Wz35EqZJR"
      },
      "source": [
        "Python identifies this as False, since 2 is not greater than 3.\n",
        "\n",
        "You can also use conditions to compare the values of variables.  In the next code cell, `var_one` has a value of 1, and `var_two` has a value of two.  In the conditions, we check if `var_one` is less than 1 (which is `False`), and we check if `var_two` is greater than or equal to `var_one` (which is `True`)."
      ]
    },
    {
      "cell_type": "code",
      "execution_count": null,
      "metadata": {
        "id": "nbkZ-2N5qXa6"
      },
      "outputs": [],
      "source": [
        "var_one = 1\n",
        "var_two = 2\n",
        "\n",
        "print(var_one < 1)\n",
        "print(var_two >= var_one)"
      ]
    },
    {
      "cell_type": "markdown",
      "metadata": {
        "id": "bi9GjIGrqawd"
      },
      "source": [
        "For a list of common symbols you can use to construct conditions, check out the chart below.\n",
        "\n",
        "<table style=\"width: 100%;\">\n",
        "<tbody>\n",
        "<tr><th><b>Symbol</b></th><th><b>Meaning</b></th></tr>\n",
        "<tr>\n",
        "<td>==</td>\n",
        "<td>equals</td>\n",
        "</tr>\n",
        "<tr>\n",
        "<td>!=</td>\n",
        "<td>does not equal</td>\n",
        "</tr>\n",
        "<tr>\n",
        "<td>&#60;</td>\n",
        "<td>less than</td>\n",
        "</tr>\n",
        "<tr>\n",
        "<td>&#60;=</td>\n",
        "<td>less than or equal to</td>\n",
        "</tr>\n",
        "<tr>\n",
        "<td>&#62;</td>\n",
        "<td>greater than</td>\n",
        "</tr>\n",
        "<tr>\n",
        "<td>&#62;=</td>\n",
        "<td>greater than or equal to</td>\n",
        "</tr>\n",
        "</tbody>\n",
        "</table>"
      ]
    },
    {
      "cell_type": "markdown",
      "metadata": {
        "id": "gw1aoNZZrhhw"
      },
      "source": [
        "**Important Note**: When you check two values are equal, make sure you use the == sign, and not the = sign.  \n",
        "- `var_one==1` checks if the value of `var_one` is 1, but\n",
        "- `var_one=1` sets the value of `var_one` to 1."
      ]
    },
    {
      "cell_type": "markdown",
      "metadata": {
        "id": "Cv2B18nAqcxs"
      },
      "source": [
        "### Conditional statements\n",
        "\n",
        "**Conditional statements** use conditions to modify how your function runs.  They check the value of a condition, and if the condition evaluates to `True`, then a certain block of code is executed.  (Otherwise, if the condition is `False`, then the code is not run.)  \n",
        "\n",
        "You will see several examples of this in the following sections."
      ]
    },
    {
      "cell_type": "markdown",
      "metadata": {
        "id": "5Rlybk7LrqKH"
      },
      "source": [
        "#### \"if\" statements\n",
        "\n",
        "The simplest type of conditional statement is an \"if\" statement.  You can see an example of this in the `evaluate_temp()` function below.  The function accepts a body temperature (in Celcius) as input.\n",
        "- Initially, `message` is set to `\"Normal temperature\"`.  \n",
        "- Then, if `temp > 38` is `True` (e.g., the body temperature is greater than 38°C), the message is updated to `\"Fever!\"`.  Otherwise, if `temp > 38` is False, then the message is not updated.\n",
        "- Finally, `message` is returned by the function.  "
      ]
    },
    {
      "cell_type": "code",
      "execution_count": null,
      "metadata": {
        "id": "39jeKdAbqrq8"
      },
      "outputs": [],
      "source": [
        "def evaluate_temp(temp):\n",
        "    # Set an initial message\n",
        "    message = \"Normal temperature.\"\n",
        "    # Update value of message only if temperature greater than 38\n",
        "    if temp > 38:\n",
        "        message = \"Fever!\"\n",
        "    return message"
      ]
    },
    {
      "cell_type": "markdown",
      "metadata": {
        "id": "0uYRYFa5qtDf"
      },
      "source": [
        "In the next code cell, we call the function, where the temperature is 37°C. The message is `\"Normal temperature\"`, because the temperature is less than 38°C (`temp > 38` evaluates to `False`) in this case.  "
      ]
    },
    {
      "cell_type": "code",
      "execution_count": null,
      "metadata": {
        "colab": {
          "base_uri": "https://localhost:8080/"
        },
        "id": "NAKsfA5yqvQM",
        "outputId": "6b55db0d-c237-40fe-85ee-3f8062905331"
      },
      "outputs": [
        {
          "name": "stdout",
          "output_type": "stream",
          "text": [
            "Normal temperature.\n"
          ]
        }
      ],
      "source": [
        "print(evaluate_temp(37))"
      ]
    },
    {
      "cell_type": "markdown",
      "metadata": {
        "id": "C5OXrXSkquoT"
      },
      "source": [
        "However, if the temperature is instead 39°C, since this is greater than 38°C, the message is updated to `\"Fever!\"`."
      ]
    },
    {
      "cell_type": "code",
      "execution_count": null,
      "metadata": {
        "id": "-IfVC0fAqzby"
      },
      "outputs": [],
      "source": [
        "print(evaluate_temp(39))"
      ]
    },
    {
      "cell_type": "markdown",
      "metadata": {
        "id": "KOA6qJdhq1m2"
      },
      "source": [
        "Note that there are two levels of indentation:\n",
        "- The first level of indentation is because we always need to indent the code block inside a function.\n",
        "- The second level of indentation is because we also need to indent the code block belonging to the \"if\" statement.  (As you'll see, we'll also need to indent the code blocks for \"elif\" and \"else\" statements.)\n",
        "\n",
        "Note that because the return statement is not indented under the \"if\" statement, it is always executed, whether `temp > 38` is `True` or `False`."
      ]
    },
    {
      "cell_type": "markdown",
      "metadata": {
        "id": "nHaO1sQcq5KM"
      },
      "source": [
        "#### \"if ... else\" statements\n",
        "\n",
        "We can use \"else\" statements to run code if a statement is False.  The code under the \"if\" statement is run if the statement is `True`, and the code under \"else\" is run if the statement is `False`."
      ]
    },
    {
      "cell_type": "code",
      "execution_count": null,
      "metadata": {
        "id": "mmSwjkesq0le"
      },
      "outputs": [],
      "source": [
        "def evaluate_temp_with_else(temp):\n",
        "    if temp > 38:\n",
        "        message = \"Fever!\"\n",
        "    else:\n",
        "        message = \"Normal temperature.\"\n",
        "    return message"
      ]
    },
    {
      "cell_type": "markdown",
      "metadata": {
        "id": "00BikVvdq6uM"
      },
      "source": [
        "This `evaluate_temp_with_else()` function has equivalent behavior to the `evaluate_temp()` function.\n",
        "\n",
        "In the next code cell, we call this new function, where the temperature is 37°C.  In this case, `temp > 38` evaluates to `False`, so the code under the \"else\" statement is executed, and the `Normal temperature.` message is returned."
      ]
    },
    {
      "cell_type": "code",
      "execution_count": null,
      "metadata": {
        "id": "Xa2fHKFeq8th"
      },
      "outputs": [],
      "source": [
        "print(evaluate_temp_with_else(37))"
      ]
    },
    {
      "cell_type": "markdown",
      "metadata": {
        "id": "rRttXXFRq919"
      },
      "source": [
        "As with the previous function, we indent the code blocks after the \"if\" and \"else\" statements.  \n",
        "\n",
        "#### \"if ... elif ... else\" statements\n",
        "\n",
        "We can use \"elif\" (which is short for \"else if\") to check if multiple conditions might be true.  The function below:\n",
        "- First checks if `temp > 38`.  If this is true, then the message is set to `\"Fever!\"`.\n",
        "- As long as the message has not already been set, the function then checks if `temp > 35`.  If this is true, then the message is set to `\"Normal temperature.\"`.\n",
        "- Then, if still no message has been set, the \"else\" statement ensures that the message is set to `\"Low temperature.\"` message is printed.\n",
        "\n",
        "You can think of \"elif\" as saying ... \"okay, that previous condition (e.g., `temp > 38`) was false, so let's check if this new condition (e.g., `temp > 35`) might be true!\""
      ]
    },
    {
      "cell_type": "code",
      "execution_count": null,
      "metadata": {
        "id": "hO1ST9c6rAzC"
      },
      "outputs": [],
      "source": [
        "def evaluate_temp_with_elif(temp):\n",
        "    if temp > 38:\n",
        "        message = \"Fever!\"\n",
        "    elif temp > 35:\n",
        "        message = \"Normal temperature.\"\n",
        "    else:\n",
        "        message = \"Low temperature.\"\n",
        "    return message"
      ]
    },
    {
      "cell_type": "markdown",
      "metadata": {
        "id": "Hdc5bxHfrDwP"
      },
      "source": [
        "In the code cell below, we run the code under the \"elif\" statement, because `temp > 38` is `False`, and `temp > 35` is `True`.  Once this code is run, the function skips over the \"else\" statement and returns the message."
      ]
    },
    {
      "cell_type": "code",
      "execution_count": null,
      "metadata": {
        "id": "uvKvc-5vrCbZ"
      },
      "outputs": [],
      "source": [
        "evaluate_temp_with_elif(36)"
      ]
    },
    {
      "cell_type": "markdown",
      "metadata": {
        "id": "rPjyYfJCrGJP"
      },
      "source": [
        "Finally, we try out a case where the temperature is less than 35°C.  Since the conditionals in the \"if\" and \"elif\" statements both evaluate to `False`, the code block inside the \"else\" statement is executed."
      ]
    },
    {
      "cell_type": "code",
      "execution_count": null,
      "metadata": {
        "id": "pykn0eg6rIj4"
      },
      "outputs": [],
      "source": [
        "evaluate_temp_with_elif(34)"
      ]
    },
    {
      "cell_type": "markdown",
      "metadata": {
        "id": "5L4hXyAjrHYH"
      },
      "source": [
        "### Example - Calculations\n",
        "\n",
        "In the examples so far, conditional statements were used to decide how to set the values of variables.  But you can also use conditional statements to perform different calculations.\n",
        "\n",
        "In this next example, say you live in a country with only two tax brackets.  Everyone earning less than 12,000 pays 25% in taxes, and anyone earning 12,000 or more pays 30%.  The function below calculates how much tax is owed."
      ]
    },
    {
      "cell_type": "code",
      "execution_count": null,
      "metadata": {
        "id": "p1sWI35crRE6"
      },
      "outputs": [],
      "source": [
        "def get_taxes(earnings):\n",
        "    if earnings < 12000:\n",
        "        tax_owed = .25 * earnings\n",
        "    else:\n",
        "        tax_owed = .30 * earnings\n",
        "    return tax_owed"
      ]
    },
    {
      "cell_type": "markdown",
      "metadata": {
        "id": "6Oup4xCiry8k"
      },
      "source": [
        "The next code cell uses the function."
      ]
    },
    {
      "cell_type": "code",
      "execution_count": null,
      "metadata": {
        "id": "qq3r9cZcr0P-"
      },
      "outputs": [],
      "source": [
        "ana_taxes = get_taxes(9000)\n",
        "bob_taxes = get_taxes(15000)\n",
        "\n",
        "print(ana_taxes)\n",
        "print(bob_taxes)"
      ]
    },
    {
      "cell_type": "markdown",
      "metadata": {
        "id": "BSueodyJr1cs"
      },
      "source": [
        "In each case, we call the `get_taxes()` function and use the value that is returned to set the value of a variable.\n",
        "- For `ana_taxes`, we calculate taxes owed by a person who earns 9,000.  In this case, we call the `get_taxes()` function with `earnings` set to `9000`.  Thus, `earnings < 12000` is `True`, and `tax_owed` is set to `.25 * 9000`.  Then we return the value of `tax_owed`.\n",
        "- For `bob_taxes`, we calculate taxes owed by a person who earns 15,000.  In this case, we call the `get_taxes()` function with `earnings` set to `15000`.  Thus, `earnings < 12000` is `False`, and `tax_owed` is set to `.30 * 15000`.  Then we return the value of `tax_owed`.\n",
        "\n",
        "Before we move on to another example - remember the `add_three_or_eight()` function from the introduction?  It accepts a number as input and adds three if the input is less than 10, and otherwise adds eight.  Can you figure out how you would write this function?  Once you have an answer, click on the \"Show hidden code\" button below to see the solution."
      ]
    },
    {
      "cell_type": "code",
      "execution_count": null,
      "metadata": {
        "id": "qtDbEGRor3Pi"
      },
      "outputs": [],
      "source": [
        "def add_three_or_eight(number):\n",
        "    if number < 10:\n",
        "        result = number + 3\n",
        "    else:\n",
        "        result = number + 8\n",
        "    return result"
      ]
    },
    {
      "cell_type": "markdown",
      "metadata": {
        "id": "zbg79a87vAY0"
      },
      "source": [
        "### Example - Multiple \"elif\" statements\n",
        "\n",
        "So far, you have seen \"elif\" used only once in a function.  But there's no limit to the number of \"elif\" statements you can use.  For instance, the next block of code calculates the dose of medication (in milliliters) to give to a child, based on weight (in kilograms).\n",
        "\n",
        "Note: This function should not be used as medical advice, and represents a fake medication."
      ]
    },
    {
      "cell_type": "code",
      "execution_count": null,
      "metadata": {
        "id": "43Wd4zYMu_2z"
      },
      "outputs": [],
      "source": [
        "def get_dose(weight):\n",
        "    # Dosage is 1.25 ml for anyone under 5.2 kg\n",
        "    if weight < 5.2:\n",
        "        dose = 1.25\n",
        "    elif weight < 7.9:\n",
        "        dose = 2.5\n",
        "    elif weight < 10.4:\n",
        "        dose = 3.75\n",
        "    elif weight < 15.9:\n",
        "        dose = 5\n",
        "    elif weight < 21.2:\n",
        "        dose = 7.5\n",
        "    # Dosage is 10 ml for anyone 21.2 kg or over\n",
        "    else:\n",
        "        dose = 10\n",
        "    return dose"
      ]
    },
    {
      "cell_type": "markdown",
      "metadata": {
        "id": "_OXzfGNivMGI"
      },
      "source": [
        "The next code cell runs the function.  Make sure that the output makes sense to you!\n",
        "- In this case, the \"if\" statement was `False`, and all of the \"elif\" statements evaluate to `False`, until we get to `weight < 15.9`, which is `True`, and `dose` is set to 5.\n",
        "- Once an \"elif\" statement evaluates to `True` and the code block is run, the function skips over all remaining \"elif\" and \"else\" statements.  After skipping these, all that is left is the return statement, which returns the value of `dose`.\n",
        "- The order of the `elif` statements does matter here!  Re-ordering the statements will return a very different result."
      ]
    },
    {
      "cell_type": "code",
      "execution_count": null,
      "metadata": {
        "id": "NpdT_SilvOAP"
      },
      "outputs": [],
      "source": [
        "print(get_dose(12))"
      ]
    },
    {
      "cell_type": "markdown",
      "metadata": {
        "id": "Ixc6VwV5wYjH"
      },
      "source": [
        "### 👟 Exercise\n",
        "\n",
        "You work at a college admissions office.  When inspecting a dataset of college applicants, you notice that some students have represented their grades with letters (`\"A\"`, `\"B\"`, `\"C\"`, `\"D\"`, `\"F\"`), whereas others have represented their grades with a number between 0 and 100.\n",
        "\n",
        "You realize that for consistency, all of the grades should be formatted in the same way, and you decide to format them all as letters.  For the conversion, you decide to assign:\n",
        "- `\"A\"` - any grade 90-100, inclusive\n",
        "- `\"B\"` - any grade 80-89, inclusive\n",
        "- `\"C\"` - any grade 70-79, inclusive\n",
        "- `\"D\"` - any grade 60-69, inclusive\n",
        "- `\"F\"` - any grade <60\n",
        "\n",
        "Write a function `get_grade()` that takes as input:\n",
        "- `score` - an integer 0-100 corresponding to a numerical grade\n",
        "\n",
        "It should return a Python string with the letter grade that it corresponds to.  For instance,\n",
        "- A score of 85 corresponds to a B grade.  In other words, `get_grade(85)` should return `\"B\"`.\n",
        "- A score of 49 corresponds to an F grade.  In other words, `get_grade(49)` should return `\"F\"`.\n",
        "\n",
        "Make sure that when supplying the grade that is returned by the function, it is enclosed in quotes.  (For instance, if you want to return `\"A\"`, you should write `return \"A\"` and not `return A`.)"
      ]
    },
    {
      "cell_type": "code",
      "execution_count": null,
      "metadata": {
        "id": "xDJHxLSwwc1G"
      },
      "outputs": [],
      "source": [
        "# TODO: Edit the function to return the correct grade for different scores\n",
        "def get_grade(score):\n",
        "    if score >= 90:\n",
        "        grade = \"A\"\n",
        "    elif score >= 80:\n",
        "        grade = \"B\"\n",
        "    elif score >= 70:\n",
        "        grade = \"C\"\n",
        "    elif score >= 60:\n",
        "        grade = \"D\"\n",
        "    else:\n",
        "        grade = \"F\"\n",
        "    return grade"
      ]
    },
    {
      "cell_type": "markdown",
      "metadata": {
        "id": "mZPZAi4-wf7g"
      },
      "source": [
        "In the exercise for the previous section, you wrote a function `cost_of_project()` that estimated the price of rings for an online shop that sells rings with custom engravings.  This function did not use conditional statements.  In this exercise, you will rewrite the function to use conditional statements.  Recall that the online shop has the following price structure:\n",
        "- Gold plated rings have a base cost of \\\\$50, and you charge \\\\$7 per engraved unit.  \n",
        "- Solid gold rings have a base cost of \\\\$100, and you charge \\\\$10 per engraved unit.\n",
        "- Spaces and punctuation are counted as engraved units.\n",
        "\n",
        "Your function `cost_of_project()` takes two arguments:\n",
        "- `engraving` - a Python string with the text of the engraving\n",
        "- `solid_gold` - a Boolean that indicates whether the ring is solid gold\n",
        "\n",
        "It should return the cost of the project.  \n",
        "\n",
        "The function has been partially completed for you, and you need to fill in the blanks to complete the function."
      ]
    },
    {
      "cell_type": "code",
      "execution_count": null,
      "metadata": {
        "id": "G72UHVQ4wmAS"
      },
      "outputs": [],
      "source": [
        "def cost_of_project(engraving, solid_gold):\n",
        "    num_units = len(engraving)\n",
        "    if solid_gold == True:\n",
        "        cost = 100 + 10 * num_units\n",
        "    else:\n",
        "        cost = 50 + 7 * num_units\n",
        "    return cost"
      ]
    },
    {
      "cell_type": "markdown",
      "metadata": {
        "id": "T7jOLVUzw6Fv"
      },
      "source": [
        "## 📋 Lists\n",
        "\n",
        "When doing data science, you need a way to organize your data so you can work with it efficiently.  Python has many data structures available for holding your data, such as lists, sets, dictionaries, and tuples.  In this section, you will learn how to work with Python lists.\n",
        "\n",
        "Say you organize the names of the flower species in the data. One way to do this is by organizing the names in a Python string."
      ]
    },
    {
      "cell_type": "code",
      "execution_count": null,
      "metadata": {
        "id": "hbB1mKPkxpr7"
      },
      "outputs": [],
      "source": [
        "flowers = \"pink primrose,hard-leaved pocket orchid,canterbury bells,sweet pea,english marigold,tiger lily,moon orchid,bird of paradise,monkshood,globe thistle\"\n",
        "\n",
        "print(type(flowers))\n",
        "print(flowers)"
      ]
    },
    {
      "cell_type": "markdown",
      "metadata": {
        "id": "1mB7BiNRxqsK"
      },
      "source": [
        "Even better is to represent the same data in a Python list.  To create a list, you need to use square brackets (`[`, `]`) and separate each item with a comma.  Every item in the list is a Python string, so each is enclosed in quotation marks."
      ]
    },
    {
      "cell_type": "code",
      "execution_count": null,
      "metadata": {
        "id": "QuJwty90xwRO"
      },
      "outputs": [],
      "source": [
        "flowers_list = [\"pink primrose\", \"hard-leaved pocket orchid\", \"canterbury bells\", \"sweet pea\", \"english marigold\", \"tiger lily\", \"moon orchid\", \"bird of paradise\", \"monkshood\", \"globe thistle\"]\n",
        "\n",
        "print(type(flowers_list))\n",
        "print(flowers_list)"
      ]
    },
    {
      "cell_type": "markdown",
      "metadata": {
        "id": "KmXWVWnLxzpq"
      },
      "source": [
        "At first glance, it doesn't look too different, whether you represent the information in a Python string or list.  But as you will see, there are a lot of tasks that you can more easily do with a list.  For instance, a list will make it easier to:\n",
        "- get an item at a specified position (first, second, third, etc),\n",
        "- check the number of items, and\n",
        "- add and remove items.\n",
        "\n",
        "### Length\n",
        "\n",
        "We can count the number of entries in any list with `len()`, which is short for \"length\".  You need only supply the name of the list in the parentheses."
      ]
    },
    {
      "cell_type": "code",
      "execution_count": null,
      "metadata": {
        "id": "NWHNG8GoyKvi"
      },
      "outputs": [],
      "source": [
        "# The list has ten entries\n",
        "print(len(flowers_list))"
      ]
    },
    {
      "cell_type": "markdown",
      "metadata": {
        "id": "IiRUGs7lx477"
      },
      "source": [
        "### Indexing\n",
        "\n",
        "We can refer to any item in the list according to its position in the list (first, second, third, etc).  This is called **indexing**.\n",
        "\n",
        "Note that Python uses zero-based indexing, which means that:\n",
        "- to pull the first entry in the list, you use 0,\n",
        "- to pull the second entry in the list, you use 1, and\n",
        "- to pull the final entry in the list, you use one less than the length of the list."
      ]
    },
    {
      "cell_type": "code",
      "execution_count": null,
      "metadata": {
        "id": "xetlrmjMyOQ2"
      },
      "outputs": [],
      "source": [
        "print(\"First entry:\", flowers_list[0])\n",
        "print(\"Second entry:\", flowers_list[1])\n",
        "\n",
        "# The list has length ten, so we refer to final entry with 9\n",
        "print(\"Last entry:\", flowers_list[9])"
      ]
    },
    {
      "cell_type": "markdown",
      "metadata": {
        "id": "0IPGmuTEyPne"
      },
      "source": [
        "**Side Note**: You may have noticed that in the code cell above, we use a single `print()` to print multiple items (both a Python string (like `\"First entry:\"`) and a value from the list (like `flowers_list[0]`).  To print multiple things in Python with a single command, we need only separate them with a comma.\n",
        "\n",
        "### Slicing\n",
        "\n",
        "You can also pull a segment of a list (for instance, the first three entries or the last two entries).  This is called **slicing**.  For instance:\n",
        "- to pull the first `x` entries, you use `[:x]`, and\n",
        "- to pull the last `y` entries, you use `[-y:]`."
      ]
    },
    {
      "cell_type": "code",
      "execution_count": null,
      "metadata": {
        "id": "WY1lkphZyWbu"
      },
      "outputs": [],
      "source": [
        "print(\"First three entries:\", flowers_list[:3])\n",
        "print(\"Final two entries:\", flowers_list[-2:])"
      ]
    },
    {
      "cell_type": "markdown",
      "metadata": {
        "id": "0qX7Zz7VyZYD"
      },
      "source": [
        "As you can see above, when we slice a list, it returns a new, shortened list.\n",
        "\n",
        "\n",
        "### Removing items\n",
        "\n",
        "Remove an item from a list with `.remove()`, and put the item you would like to remove in parentheses."
      ]
    },
    {
      "cell_type": "code",
      "execution_count": null,
      "metadata": {
        "id": "rgzTDfH4ybvj"
      },
      "outputs": [],
      "source": [
        "flowers_list.remove(\"globe thistle\")\n",
        "print(flowers_list)"
      ]
    },
    {
      "cell_type": "markdown",
      "metadata": {
        "id": "UogBTrSZyc_x"
      },
      "source": [
        "### Adding items\n",
        "\n",
        "Add an item to a list with `.append()`, and put the item you would like to add in parentheses."
      ]
    },
    {
      "cell_type": "code",
      "execution_count": null,
      "metadata": {
        "id": "me7Di6nuygCj"
      },
      "outputs": [],
      "source": [
        "flowers_list.append(\"snapdragon\")\n",
        "print(flowers_list)"
      ]
    },
    {
      "cell_type": "markdown",
      "metadata": {
        "id": "Dbu5raNPyhRb"
      },
      "source": [
        "### Lists are not just for strings\n",
        "\n",
        "So far, we have only worked with lists where each item in the list is a string.  But lists can have items with any data type, including booleans, integers, and floats.\n",
        "\n",
        "As an example, consider hardcover book sales in the first week of April 2000 in a retail store."
      ]
    },
    {
      "cell_type": "code",
      "execution_count": null,
      "metadata": {
        "id": "gt-vt-F3yjOs"
      },
      "outputs": [],
      "source": [
        "hardcover_sales = [139, 128, 172, 139, 191, 168, 170]"
      ]
    },
    {
      "cell_type": "markdown",
      "metadata": {
        "id": "1Plr6K9sykMv"
      },
      "source": [
        "Here, `hardcover_sales` is a list of integers.  Similar to when working with strings, you can still do things like get the length, pull individual entries, and extend the list."
      ]
    },
    {
      "cell_type": "code",
      "execution_count": null,
      "metadata": {
        "id": "F9Hl7UofymUo"
      },
      "outputs": [],
      "source": [
        "print(\"Length of the list:\", len(hardcover_sales))\n",
        "print(\"Entry at index 2:\", hardcover_sales[2])"
      ]
    },
    {
      "cell_type": "markdown",
      "metadata": {
        "id": "ii7fOwxqyocV"
      },
      "source": [
        "You can also get the minimum with `min()` and the maximum with `max()`."
      ]
    },
    {
      "cell_type": "code",
      "execution_count": null,
      "metadata": {
        "id": "5oQ5o6TRyp_B"
      },
      "outputs": [],
      "source": [
        "print(\"Minimum:\", min(hardcover_sales))\n",
        "print(\"Maximum:\", max(hardcover_sales))"
      ]
    },
    {
      "cell_type": "markdown",
      "metadata": {
        "id": "LNmU6oEhyrFk"
      },
      "source": [
        "To add every item in the list, use `sum()`."
      ]
    },
    {
      "cell_type": "code",
      "execution_count": null,
      "metadata": {
        "id": "-fKZiFmcysVj"
      },
      "outputs": [],
      "source": [
        "print(\"Total books sold in one week:\", sum(hardcover_sales))"
      ]
    },
    {
      "cell_type": "markdown",
      "metadata": {
        "id": "M6g-4zW7ytUS"
      },
      "source": [
        "We can also do similar calculations with slices of the list.  In the next code cell, we take the sum from the first five days (`sum(hardcover_sales[:5])`), and then divide by five to get the average number of books sold in the first five days."
      ]
    },
    {
      "cell_type": "code",
      "execution_count": null,
      "metadata": {
        "id": "SMwPIRCOyuht"
      },
      "outputs": [],
      "source": [
        "print(\"Average books sold in first five days:\", sum(hardcover_sales[:5])/5)"
      ]
    },
    {
      "cell_type": "markdown",
      "metadata": {
        "id": "NBq_9VPRyxk8"
      },
      "source": [
        "### 👟 Exercise\n",
        "\n",
        "The list `num_customers` contains the number of customers who came into your restaurant every day over the last month (which lasted thirty days).  Fill in values for each of the following:\n",
        "- `avg_first_seven` - average number of customers who visited in the first seven days\n",
        "- `avg_last_seven` - average number of customers who visited in the last seven days\n",
        "- `max_month` - number of customers on the day that got the most customers in the last month\n",
        "- `min_month` - number of customers on the day that got the least customers in the last month\n",
        "\n",
        "Answer this question by writing code.  For instance, if you have to find the minimum value in a list, use `min()` instead of scanning for the smallest value and directly filling in a number."
      ]
    },
    {
      "cell_type": "code",
      "execution_count": null,
      "metadata": {
        "id": "_6xNyj1sy7pN"
      },
      "outputs": [],
      "source": [
        "# Do not change: Number of customers each day for the last month\n",
        "num_customers = [137, 147, 135, 128, 170, 174, 165, 146, 126, 159,\n",
        "                 141, 148, 132, 147, 168, 153, 170, 161, 148, 152,\n",
        "                 141, 151, 131, 149, 164, 163, 143, 143, 166, 171]\n",
        "\n",
        "# TODO: Fill in values for the variables below\n",
        "avg_first_seven = sum(num_customers[:7])/7\n",
        "avg_last_seven = sum(num_customers[-7:])/7\n",
        "max_month = max(num_customers)\n",
        "min_month = min(num_customers)"
      ]
    },
    {
      "cell_type": "markdown",
      "metadata": {
        "id": "IWVNEqCk2aQ-"
      },
      "source": [
        "In the part, you'll learn all about **list comprehensions**, which allow you to create a list based on the values in another list.  In this question, you'll get a brief preview of how they work.\n",
        "\n",
        "Say we're working with the list below."
      ]
    },
    {
      "cell_type": "code",
      "execution_count": null,
      "metadata": {
        "id": "Mx9r8mPn4gBN"
      },
      "outputs": [],
      "source": [
        "test_ratings = [1, 2, 3, 4, 5]"
      ]
    },
    {
      "cell_type": "markdown",
      "metadata": {
        "id": "wXhS308p4l0T"
      },
      "source": [
        "Then we can use this list (`test_ratings`) to create a new list (`test_liked`) where each item has been turned into a boolean, depending on whether or not the item is greater than or equal to four."
      ]
    },
    {
      "cell_type": "code",
      "execution_count": null,
      "metadata": {
        "id": "ByKs1gL34jF1"
      },
      "outputs": [],
      "source": [
        "test_liked = [i>=4 for i in test_ratings]\n",
        "print(test_liked)"
      ]
    },
    {
      "cell_type": "markdown",
      "metadata": {
        "id": "2bK9RACe4nqy"
      },
      "source": [
        "In this question, you'll use this list comprehension to define a function `percentage_liked()` that takes one argument as input:\n",
        "- `ratings`: list of ratings that people gave to a movie, where each rating is a number between 1-5, inclusive\n",
        "\n",
        "We say someone liked the movie, if they gave a rating of either 4 or 5.  Your function should return the percentage of people who liked the movie.\n",
        "\n",
        "For instance, if we supply a value of `[1, 2, 3, 4, 5, 4, 5, 1]`, then 50% (4/8) of the people liked the movie, and the function should return `0.5`.\n",
        "\n",
        "Part of the function has already been completed for you.  You need only use `list_liked` to calculate `percentage_liked`."
      ]
    },
    {
      "cell_type": "code",
      "execution_count": null,
      "metadata": {
        "id": "nmcFFPeL4pDH"
      },
      "outputs": [],
      "source": [
        "def percentage_liked(ratings):\n",
        "    list_liked = [i >= 4 for i in ratings]\n",
        "    # TODO: Complete the function\n",
        "    percentage_liked = sum(list_liked)/len(list_liked)\n",
        "    return percentage_liked\n",
        "\n",
        "# Do not change: should return 0.5\n",
        "percentage_liked([1, 2, 3, 4, 5, 4, 5, 1])"
      ]
    }
  ],
  "metadata": {
    "colab": {
      "provenance": [],
      "toc_visible": true
    },
    "kernelspec": {
      "display_name": "Python 3",
      "name": "python3"
    },
    "language_info": {
      "name": "python"
    }
  },
  "nbformat": 4,
  "nbformat_minor": 0
}
