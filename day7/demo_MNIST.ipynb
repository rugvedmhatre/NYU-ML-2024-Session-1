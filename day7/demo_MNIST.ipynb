{
  "cells": [
    {
      "cell_type": "markdown",
      "metadata": {},
      "source": [
        "# Demo MNIST"
      ]
    },
    {
      "cell_type": "code",
      "execution_count": null,
      "metadata": {
        "id": "UJA14rBT1Hbn"
      },
      "outputs": [],
      "source": [
        "import tensorflow as tf\n",
        "from tensorflow.keras import datasets, layers, models\n",
        "from tensorflow.keras.utils import to_categorical\n",
        "\n",
        "import matplotlib.pyplot as plt\n",
        "import matplotlib.image as mpimg\n",
        "\n",
        "import numpy as np"
      ]
    },
    {
      "cell_type": "markdown",
      "metadata": {
        "id": "l9Q6qLnpRP_H"
      },
      "source": [
        "**Data loading**"
      ]
    },
    {
      "cell_type": "code",
      "execution_count": null,
      "metadata": {
        "colab": {
          "base_uri": "https://localhost:8080/",
          "height": 121
        },
        "id": "koD3zSFW1lcQ",
        "outputId": "e329eebf-2428-4e32-e07d-efc398a4a0ca"
      },
      "outputs": [],
      "source": [
        "(X_train, y_train), (X_test, y_test) = datasets.mnist.load_data()\n",
        "\n",
        "print(\"X_train shape\", X_train.shape)\n",
        "print(\"y_train shape\", y_train.shape)\n",
        "print(\"X_test shape\", X_test.shape)\n",
        "print(\"y_test shape\", y_test.shape)"
      ]
    },
    {
      "cell_type": "markdown",
      "metadata": {
        "id": "BBPavp8BRTPh"
      },
      "source": [
        "**Data plotting**"
      ]
    },
    {
      "cell_type": "code",
      "execution_count": null,
      "metadata": {
        "colab": {
          "base_uri": "https://localhost:8080/",
          "height": 729
        },
        "id": "xFYNi-Ka11fT",
        "outputId": "c2750b10-b741-4d9a-d723-1ef6caf3a869"
      },
      "outputs": [],
      "source": [
        "fig = plt.figure()\n",
        "fig.set_size_inches(10, 10)\n",
        "for i in range(16):\n",
        "    plt.subplot(4,4,i+1)\n",
        "    num = np.random.randint(0, len(X_train))\n",
        "    plt.imshow(X_train[num], cmap='gray')\n",
        "    plt.title(f\"Class {y_train[num]}\")\n",
        "\n",
        "plt.tight_layout()"
      ]
    },
    {
      "cell_type": "markdown",
      "metadata": {
        "id": "XoR95LFGEYc9"
      },
      "source": [
        "**Data normalization :**\n",
        "\n",
        "We normalize the train and test data such that each pixel is in [0, 1] (instead of [0, 255]). This usually helps the training !"
      ]
    },
    {
      "cell_type": "code",
      "execution_count": null,
      "metadata": {
        "id": "bm9WgPgmDXV1"
      },
      "outputs": [],
      "source": [
        "X_train = X_train / 255\n",
        "X_test = X_test / 255 "
      ]
    },
    {
      "cell_type": "code",
      "execution_count": null,
      "metadata": {
        "colab": {
          "base_uri": "https://localhost:8080/",
          "height": 52
        },
        "id": "x0YFU-ILKRZF",
        "outputId": "d2b75d55-cca7-4ef6-a18b-93f63db5189d"
      },
      "outputs": [],
      "source": [
        "nb_classes = 10 # number of unique digits\n",
        "\n",
        "# One hot encoding\n",
        "Y_train = to_categorical(y_train, nb_classes)\n",
        "Y_test = to_categorical(y_test, nb_classes)\n",
        "print(\"Y_train shape\", Y_train.shape)\n",
        "print(\"Y_test shape\", Y_test.shape)"
      ]
    },
    {
      "cell_type": "markdown",
      "metadata": {
        "id": "kVp8IrdBRs40"
      },
      "source": [
        "### **Fully connected network**\n",
        "\n",
        "Create a fully connected network with :\n",
        "- Two layers with 512 ouput neurons and ReLu activation.\n",
        "- A final layer with 10 output neurons and a softmax activation.\n",
        "\n",
        "Hint : You will need to flatten your image before the first dense layer. Use [tf.keras.layers.Flatten](https://www.tensorflow.org/api_docs/python/tf/keras/layers/Flatten)\n",
        "\n"
      ]
    },
    {
      "cell_type": "code",
      "execution_count": null,
      "metadata": {
        "id": "KouFCtBRl40E"
      },
      "outputs": [],
      "source": [
        "## To-do\n",
        "# model = models.Sequential()\n",
        "# model.add(layers.Flatten(input_shape=(..., ...)))\n",
        "# model.add(layers.Dense(..., activation='...'))\n",
        "# model.add(layers.Dense(..., activation='...'))\n",
        "# model.add(layers.Dense(..., activation='...'))"
      ]
    },
    {
      "cell_type": "markdown",
      "metadata": {
        "id": "_AV-BjoU2X_7"
      },
      "source": [
        "Train for 5 epochs :"
      ]
    },
    {
      "cell_type": "code",
      "execution_count": null,
      "metadata": {
        "id": "Q3OXloLq2X_8"
      },
      "outputs": [],
      "source": [
        "## To-do\n",
        "model.compile(loss='categorical_crossentropy', optimizer='adam', metrics=['accuracy'])\n",
        "# history = model.fit(..., ..., batch_size=128, epochs=5, validation_data=(..., ...)"
      ]
    },
    {
      "cell_type": "markdown",
      "metadata": {
        "id": "XmkogYSZRz11"
      },
      "source": [
        "### **Convolutional Neural Network**\n",
        "\n",
        "Create a Convolutional Neural Network. You will need to use [tf.keras.layers.Flatten](https://www.tensorflow.org/api_docs/python/tf/keras/layers/Flatten) between the convolutional layers and the fully connected layers."
      ]
    },
    {
      "cell_type": "code",
      "execution_count": null,
      "metadata": {
        "id": "pU23kOUFM7kt"
      },
      "outputs": [],
      "source": [
        "X_train = X_train.reshape(60000, 28, 28, 1) # add an additional dimension to represent the single-channel\n",
        "X_test = X_test.reshape(10000, 28, 28, 1)"
      ]
    },
    {
      "cell_type": "markdown",
      "metadata": {
        "id": "mg9D0LO62X_8"
      },
      "source": [
        "###  Architecture :\n",
        "- Two convolutional layers with 32 channels, ReLu activation and 3 by 3 kernels.\n",
        "- 2 by 2 max pooling\n",
        "- Two convolutional layers with 64 channels, ReLu activation and 3 by 3 kernels.\n",
        "- 2 by 2 max pooling\n",
        "- One dense layer with 512 ouput neurons and ReLu activation\n",
        "- A dense layer with 10 output neurons and a softmax activation.\n"
      ]
    },
    {
      "cell_type": "code",
      "execution_count": null,
      "metadata": {
        "id": "rBMWONKll0kU"
      },
      "outputs": [],
      "source": [
        "## To-do"
      ]
    },
    {
      "cell_type": "markdown",
      "metadata": {
        "id": "GEamOQyU2X_9"
      },
      "source": [
        "Train for 5 epochs :"
      ]
    },
    {
      "cell_type": "code",
      "execution_count": null,
      "metadata": {
        "id": "2axGTg4n2X_9"
      },
      "outputs": [],
      "source": [
        "## To-do"
      ]
    },
    {
      "cell_type": "markdown",
      "metadata": {
        "id": "AepqprIfabiU"
      },
      "source": [
        "### Check predictions\n",
        "\n",
        "Plot a few misclassified images."
      ]
    },
    {
      "cell_type": "code",
      "execution_count": null,
      "metadata": {
        "id": "v5Y4r6QOXg0v"
      },
      "outputs": [],
      "source": [
        "## To-do"
      ]
    }
  ],
  "metadata": {
    "accelerator": "GPU",
    "colab": {
      "collapsed_sections": [],
      "name": "demo_MNIST.ipynb",
      "provenance": []
    },
    "kernelspec": {
      "display_name": "Python 3",
      "language": "python",
      "name": "python3"
    },
    "language_info": {
      "codemirror_mode": {
        "name": "ipython",
        "version": 3
      },
      "file_extension": ".py",
      "mimetype": "text/x-python",
      "name": "python",
      "nbconvert_exporter": "python",
      "pygments_lexer": "ipython3",
      "version": "3.7.0"
    },
    "latex_envs": {
      "LaTeX_envs_menu_present": true,
      "autoclose": true,
      "autocomplete": true,
      "bibliofile": "biblio.bib",
      "cite_by": "apalike",
      "current_citInitial": 1,
      "eqLabelWithNumbers": true,
      "eqNumInitial": 1,
      "hotkeys": {
        "equation": "Ctrl-E",
        "itemize": "Ctrl-I"
      },
      "labels_anchors": false,
      "latex_user_defs": false,
      "report_style_numbering": false,
      "user_envs_cfg": false
    }
  },
  "nbformat": 4,
  "nbformat_minor": 0
}
