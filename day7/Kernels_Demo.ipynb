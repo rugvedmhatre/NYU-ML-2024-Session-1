{
  "cells": [
    {
      "cell_type": "markdown",
      "metadata": {
        "id": "5-p2wvDVG6A3"
      },
      "source": [
        "# Kernels\n",
        "\n",
        "In this demo, you will learn to:\n",
        "* Compute 2D convolutions on images using `scipy`.\n",
        "* Visualize the outputs of convolutions\n"
      ]
    },
    {
      "cell_type": "markdown",
      "metadata": {
        "id": "OYNljoNmG6A8"
      },
      "source": [
        "## Loading and Displaying Images\n",
        "\n",
        "We first import several packages.  Two important packages we will use are: \n",
        "* `scipy.signal`: sub-package which has useful routines for 2D convolutions\n",
        "* `skimage.data`: sub-package for getting some basic images."
      ]
    },
    {
      "cell_type": "code",
      "execution_count": null,
      "metadata": {
        "id": "phe_PVmaG6A_"
      },
      "outputs": [],
      "source": [
        "import numpy as np\n",
        "import scipy.signal\n",
        "import skimage.data\n",
        "import matplotlib.pyplot as plt\n",
        "%matplotlib inline"
      ]
    },
    {
      "cell_type": "markdown",
      "metadata": {
        "id": "-wbHlSiYG6BK"
      },
      "source": [
        "We next create a function to display images that we will use throughout the demo.  The function does both gray-scale and color images."
      ]
    },
    {
      "cell_type": "code",
      "execution_count": null,
      "metadata": {
        "id": "B3GWANbxG6BO"
      },
      "outputs": [],
      "source": [
        "# Display the image\n",
        "def disp_image(im):\n",
        "    if len(im.shape) == 2:\n",
        "        # Gray scale image\n",
        "        plt.imshow(im, cmap='gray')    \n",
        "    else:\n",
        "        # Color image.  \n",
        "        im1 = (im - np.min(im)) / (np.max(im) - np.min(im)) * 255\n",
        "        im1 = im1.astype(dtype=np.uint8) \n",
        "        plt.imshow(im1)    \n",
        "        \n",
        "    # Remove axis ticks\n",
        "    plt.xticks([])\n",
        "    plt.yticks([])"
      ]
    },
    {
      "cell_type": "markdown",
      "metadata": {
        "id": "PRYyqT_eG6BU"
      },
      "source": [
        "The `skimage.data` package has several commonly used images in image processing.  We begin by loading a widely-used \"cameraman\" image.  "
      ]
    },
    {
      "cell_type": "code",
      "execution_count": null,
      "metadata": {
        "colab": {
          "base_uri": "https://localhost:8080/",
          "height": 252
        },
        "id": "TqAfUoOpG6BX",
        "outputId": "9caac66d-47f4-4e2f-8d4b-b33ece80dbb4"
      },
      "outputs": [],
      "source": [
        "im = skimage.data.camera()\n",
        "disp_image(im)"
      ]
    },
    {
      "cell_type": "markdown",
      "metadata": {
        "id": "ixxZ0nqXG6Bh"
      },
      "source": [
        "We print the image shape"
      ]
    },
    {
      "cell_type": "code",
      "execution_count": null,
      "metadata": {
        "colab": {
          "base_uri": "https://localhost:8080/"
        },
        "id": "s7g8tItwG6Bj",
        "outputId": "7c0e2dbd-f721-43b9-c99f-a9e8527a5b4c"
      },
      "outputs": [],
      "source": [
        "print(f\"The image shape is: {im.shape}\")"
      ]
    },
    {
      "cell_type": "markdown",
      "metadata": {
        "id": "oJwJOjo2G6Bt"
      },
      "source": [
        "We can also load images from files using the `skimage.io.imread` function.  This function can handle most common image formats including, for example, JPG."
      ]
    },
    {
      "cell_type": "markdown",
      "metadata": {
        "id": "dnFs8c8bG6B6"
      },
      "source": [
        "## Performing 2D Convolutions"
      ]
    },
    {
      "cell_type": "markdown",
      "metadata": {
        "id": "0oLe0dYnG6B7"
      },
      "source": [
        "To illustrate 2D convolution, we first apply an averaging filter, which essentially replaces each pixel by the average of a neighborhood of `KxK` pixels to the top left of the current pixel. Filtering an image with this filter has a **smoothing effect**.  \n",
        "\n",
        "In image processing, convolving with an averaging filter can be useful as a crude noise removal filter. \n",
        "\n",
        "\n",
        "\n"
      ]
    },
    {
      "cell_type": "code",
      "execution_count": null,
      "metadata": {
        "colab": {
          "base_uri": "https://localhost:8080/"
        },
        "id": "kTKd-4LgG6B8",
        "outputId": "6b93e332-657f-4945-e2ac-d473246de411"
      },
      "outputs": [],
      "source": [
        "kx = 9\n",
        "ky = 9\n",
        "G_unif = np.ones((kx, ky)) / (kx * ky)\n",
        "\n",
        "G_unif"
      ]
    },
    {
      "cell_type": "code",
      "execution_count": null,
      "metadata": {
        "colab": {
          "base_uri": "https://localhost:8080/",
          "height": 397
        },
        "id": "_SibgoZZ1xP6",
        "outputId": "5e758cd7-e663-4ee0-8dec-15569931c95b"
      },
      "outputs": [],
      "source": [
        "im_unif_valid = scipy.signal.correlate2d(im, G_unif, mode='valid')\n",
        "\n",
        "# Plot the original image and the output\n",
        "plt.figure(figsize=(13, 13))\n",
        "plt.subplot(1, 2, 1)\n",
        "disp_image(im)\n",
        "plt.title('Original')\n",
        "plt.subplot(1, 2, 2)\n",
        "disp_image(im_unif_valid)\n",
        "plt.title('Uniform kernel, Valid')"
      ]
    },
    {
      "cell_type": "markdown",
      "metadata": {
        "id": "S14iMyxzG6CG"
      },
      "source": [
        "Let us look at the image sizes. Let `K` represent filter width, `Ni` image width, `No` output width. Then:\n",
        "\n",
        "\n",
        "* `valid`:  `No=Ni-K+1`."
      ]
    },
    {
      "cell_type": "code",
      "execution_count": null,
      "metadata": {
        "colab": {
          "base_uri": "https://localhost:8080/"
        },
        "id": "1C5lJnhLG6CI",
        "outputId": "a93ea436-3dfb-4b2c-8b58-bc1fc53ba286"
      },
      "outputs": [],
      "source": [
        "print(f\"Input shape = {im.shape}\")\n",
        "print(f\"Output shape (valid) = {im_unif_valid.shape}\")"
      ]
    },
    {
      "cell_type": "markdown",
      "metadata": {
        "id": "iHDU0Ip7G6CR"
      },
      "source": [
        "Now let us take a closer look at the output near the boundaries"
      ]
    },
    {
      "cell_type": "code",
      "execution_count": null,
      "metadata": {
        "colab": {
          "base_uri": "https://localhost:8080/",
          "height": 411
        },
        "id": "gmReQWxWG6CS",
        "outputId": "bbd5e937-1d02-474a-93a0-557e1adbf2f5"
      },
      "outputs": [],
      "source": [
        "# Plot the original image and the three outputs at the top left corner\n",
        "plt.figure(figsize=(13, 13))\n",
        "plt.subplot(1, 2, 1)\n",
        "plt.imshow(im[0:50,0:50], vmin=0, vmax=255, cmap='gray')\n",
        "plt.title('Original')\n",
        "\n",
        "plt.subplot(1, 2, 2)\n",
        "plt.imshow(im_unif_valid[0:50, 0:50], vmin=0, vmax=255, cmap='gray')\n",
        "plt.title('Uniform kernel, Valid')"
      ]
    },
    {
      "cell_type": "markdown",
      "metadata": {
        "id": "tKbaErxrG6Ca"
      },
      "source": [
        "Now let us look at the effect of increasing the average window size. As we can see, the larger is `K`, the more blured the image becomes.\n"
      ]
    },
    {
      "cell_type": "code",
      "execution_count": null,
      "metadata": {
        "colab": {
          "base_uri": "https://localhost:8080/",
          "height": 281
        },
        "id": "TTVm1d8DG6Cc",
        "outputId": "f90fb1d5-2cc5-40de-936c-ea8624857f77"
      },
      "outputs": [],
      "source": [
        "kx = 9\n",
        "ky = 9\n",
        "\n",
        "G_unif = np.ones((kx, ky)) / (kx * ky)\n",
        "im_unif_9 = scipy.signal.correlate2d(im, G_unif, mode='valid')\n",
        "\n",
        "\n",
        "kx = 15\n",
        "ky = 15\n",
        "G_unif = np.ones((kx, ky)) / (kx * ky)\n",
        "im_unif_15 = scipy.signal.correlate2d(im, G_unif, mode='valid')\n",
        "\n",
        "# Plot the original image and the three outputs\n",
        "plt.figure(figsize=(13,13))\n",
        "plt.subplot(1,3,1)\n",
        "disp_image(im)\n",
        "plt.title('Original')\n",
        "plt.subplot(1,3,2)\n",
        "disp_image(im_unif_9)\n",
        "plt.title('Uniform kernel, 9x9')\n",
        "plt.subplot(1,3,3)\n",
        "disp_image(im_unif_15)\n",
        "plt.title('Uniform kernel, 15x15')"
      ]
    },
    {
      "cell_type": "markdown",
      "metadata": {
        "id": "tbSpBhfUG6Ck"
      },
      "source": [
        "Compared to the averaging filter, the Gaussian kernel also performs an averaging, but weights the pixels at the center of the kernel more. You can control the bluring strength with the standard deviation sigma of the Gaussian kernel. "
      ]
    },
    {
      "cell_type": "code",
      "execution_count": null,
      "metadata": {
        "colab": {
          "base_uri": "https://localhost:8080/",
          "height": 283
        },
        "id": "BE88cMdyG6Cm",
        "outputId": "a84c9cda-eb04-4bff-9540-8e3da787d282"
      },
      "outputs": [],
      "source": [
        "def gauss_kernel(nx,ny,sig):\n",
        "    \"\"\"\n",
        "    Creates a Gaussian kernel of size (nx,ny) with std deviation sig\n",
        "    \"\"\"\n",
        "    dxsq = (np.arange(nx)-(nx-1)/2)**2\n",
        "    dysq = (np.arange(ny)-(ny-1)/2)**2\n",
        "    dsq = dxsq[:,None] + dysq[None,:]\n",
        "    G = np.exp(-0.5*dsq/(sig**2))\n",
        "    G = G / np.sum(G)\n",
        "    return G\n",
        "\n",
        "# Create a Gaussian kernel\n",
        "kx = 9\n",
        "ky = 9\n",
        "sig = 3\n",
        "G_unif = np.ones((kx, ky)) / (kx * ky)\n",
        "\n",
        "# Create a Gaussian kernel\n",
        "G_gauss = gauss_kernel(kx, ky, sig)\n",
        "plt.imshow(G_gauss,interpolation='None', cmap='gray')"
      ]
    },
    {
      "cell_type": "markdown",
      "metadata": {
        "id": "Uzk7thwGG6Ct"
      },
      "source": [
        "Now let us compare effect of averaging and Gaussian filtering, with different sizes"
      ]
    },
    {
      "cell_type": "code",
      "execution_count": null,
      "metadata": {
        "colab": {
          "base_uri": "https://localhost:8080/",
          "height": 225
        },
        "id": "oi0GZokGG6Cv",
        "outputId": "a3e524ee-91f6-4c17-b150-5e552e4ed64b"
      },
      "outputs": [],
      "source": [
        "# Correlate with 9 x 9 Gaussian\n",
        "kx = 9\n",
        "ky = 9\n",
        "sig = 3\n",
        "G_gauss = gauss_kernel(kx, ky, sig)\n",
        "im_gauss_9 = scipy.signal.correlate2d(im, G_gauss, mode='valid')\n",
        "\n",
        "# Correlate with 15 x 15 Gaussian\n",
        "kx = 15\n",
        "ky = 15\n",
        "sig = 6\n",
        "G_gauss = gauss_kernel(kx,ky,sig)\n",
        "im_gauss_15 = scipy.signal.correlate2d(im, G_gauss, mode='valid')\n",
        "\n",
        "\n",
        "plt.figure(figsize=(13,13))\n",
        "plt.subplot(1,4,1)\n",
        "disp_image(im_unif_9)\n",
        "plt.title('Uniform kernel, 9x9')\n",
        "plt.subplot(1,4,2)\n",
        "disp_image(im_gauss_9)\n",
        "plt.title('Gaussian kernel, 9x9')\n",
        "plt.subplot(1,4,3)\n",
        "disp_image(im_unif_15)\n",
        "plt.title('Uniform kernel, 15x15')\n",
        "plt.subplot(1,4,4)\n",
        "disp_image(im_gauss_15)\n",
        "plt.title('Gaussian kernel, 15x15')\n"
      ]
    },
    {
      "cell_type": "markdown",
      "metadata": {
        "id": "Zn5TQg_bG6C5"
      },
      "source": [
        "In addtion to noise removal, a common use of convolution is **edge detection** by using a filter that approximates the operation of gradient in horizontal and vertical directions. One such filter set is called the [Sobel filters](https://en.wikipedia.org/wiki/Sobel_operator), `Gx` and `Gy`.  The filter **`Gx`** filter will have a large response when there is a large **change in the x-direction (vertical edges)**.  Similarly, **`Gy`** will have a large response for a large **change in the image in the y-direction (horizontal edges)**.   In any part of the image that is flat, the output is zero. Without filter reversal, the response is positive if the change is from black to white."
      ]
    },
    {
      "cell_type": "code",
      "execution_count": null,
      "metadata": {
        "id": "W3YIH6PaG6C6"
      },
      "outputs": [],
      "source": [
        "Gx = np.array([[1,0,-1],\n",
        "               [2,0,-2],\n",
        "               [1,0,-1]])  # change in the x-direction\n",
        "Gy = np.array([[1,2,1],\n",
        "               [0,0,0],\n",
        "               [-1,-2,-1]])  # change in the y-direction\n",
        "Gxy = np.array([[-1,-1,-1],\n",
        "                [-1,8,-1],\n",
        "                [-1,-1,-1]])  # Every edge"
      ]
    },
    {
      "cell_type": "code",
      "execution_count": null,
      "metadata": {
        "colab": {
          "base_uri": "https://localhost:8080/",
          "height": 239
        },
        "id": "EOtPjc8bG6C_",
        "outputId": "d6b27fc5-5549-4b39-fadf-8070eb83ddd4"
      },
      "outputs": [],
      "source": [
        "# Perform the convolutions\n",
        "imx = scipy.signal.correlate2d(im, Gx, mode='valid')\n",
        "imy = scipy.signal.correlate2d(im, Gy, mode='valid')\n",
        "imxy = scipy.signal.correlate2d(im, Gxy, mode='valid')\n",
        "\n",
        "\n",
        "# Plot the original image and the two outputs\n",
        "plt.figure(figsize=(25,25))\n",
        "plt.subplot(1, 4, 1)\n",
        "disp_image(im)\n",
        "plt.title('Original')\n",
        "plt.subplot(1, 4, 2)\n",
        "disp_image(imx)\n",
        "plt.title('Gx * image')\n",
        "plt.subplot(1,4, 3)\n",
        "disp_image(imy)\n",
        "plt.title('Gy * image')\n",
        "plt.subplot(1,4, 4)\n",
        "disp_image(imxy)\n",
        "plt.title('Gxy * image')"
      ]
    },
    {
      "cell_type": "code",
      "execution_count": null,
      "metadata": {
        "colab": {
          "base_uri": "https://localhost:8080/",
          "height": 448
        },
        "id": "at8QcQPQlo2U",
        "outputId": "fdcabc05-14a1-4a30-9930-d1d246753a66"
      },
      "outputs": [],
      "source": [
        "G = (1 / 256) * np.array([[1, 4, 6, 4, 1],\n",
        "                          [4, 16, 24, 16, 4],\n",
        "                          [6, 24, -476, 24, 6],\n",
        "                          [4, 16, 24, 16, 4],\n",
        "                          [1, 4, 6, 4, 1]])\n",
        "\n",
        "\n",
        "im_sharp = scipy.signal.correlate2d(im, G, mode='valid')\n",
        "plt.figure(figsize=(16,16))\n",
        "plt.subplot(1,2,1)\n",
        "disp_image(im)\n",
        "plt.title('Original')\n",
        "plt.subplot(1,2,2)\n",
        "disp_image(im_sharp)\n",
        "plt.title('Sharpen')"
      ]
    },
    {
      "cell_type": "code",
      "execution_count": null,
      "metadata": {
        "id": "8mLsQC5U1-oo"
      },
      "outputs": [],
      "source": []
    }
  ],
  "metadata": {
    "colab": {
      "collapsed_sections": [],
      "name": "Kernels_Demo.ipynb",
      "provenance": [],
      "toc_visible": true
    },
    "kernelspec": {
      "display_name": "Python 3",
      "language": "python",
      "name": "python3"
    },
    "language_info": {
      "codemirror_mode": {
        "name": "ipython",
        "version": 3
      },
      "file_extension": ".py",
      "mimetype": "text/x-python",
      "name": "python",
      "nbconvert_exporter": "python",
      "pygments_lexer": "ipython3",
      "version": "3.7.0"
    },
    "latex_envs": {
      "LaTeX_envs_menu_present": true,
      "autoclose": true,
      "autocomplete": true,
      "bibliofile": "biblio.bib",
      "cite_by": "apalike",
      "current_citInitial": 1,
      "eqLabelWithNumbers": true,
      "eqNumInitial": 1,
      "hotkeys": {
        "equation": "Ctrl-E",
        "itemize": "Ctrl-I"
      },
      "labels_anchors": false,
      "latex_user_defs": false,
      "report_style_numbering": false,
      "user_envs_cfg": false
    }
  },
  "nbformat": 4,
  "nbformat_minor": 0
}
