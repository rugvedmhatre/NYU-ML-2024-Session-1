{
  "cells": [
    {
      "cell_type": "code",
      "execution_count": null,
      "metadata": {
        "id": "O1Dh3uyv23xv"
      },
      "outputs": [],
      "source": [
        "from skimage import io\n",
        "import matplotlib.pyplot as plt\n",
        "import numpy as np"
      ]
    },
    {
      "cell_type": "code",
      "execution_count": null,
      "metadata": {
        "colab": {
          "base_uri": "https://localhost:8080/",
          "height": 1000
        },
        "id": "AEc_pRpZ29pF",
        "outputId": "55c6824a-5c5a-4562-b6f5-3f7a1c6c0288"
      },
      "outputs": [],
      "source": [
        "# Reading an image\n",
        "url = 'https://engineering.nyu.edu/sites/default/files/styles/content_header_620_2x/public/2018-04/brooklyn-bridge-a.jpg'\n",
        "# url = 'http://archive.engineering.nyu.edu/files/imagecache/img_col_8_380/pressrelease/RS46906_071A7857-scr.jpg'\n",
        "img = io.imread(url)\n",
        "plt.imshow(img)\n",
        "print(img.shape)"
      ]
    },
    {
      "cell_type": "code",
      "execution_count": null,
      "metadata": {
        "colab": {
          "base_uri": "https://localhost:8080/",
          "height": 1000
        },
        "id": "rcF7WLNQ3GQ-",
        "outputId": "82f77b59-a694-4286-fed2-96e4e243f845"
      },
      "outputs": [],
      "source": [
        "plt.figure()\n",
        "plt.imshow(img)\n",
        "\n",
        "# Red\n",
        "img_red = img.copy()\n",
        "img_red[:,:,1] = np.zeros((1404, 1872))\n",
        "img_red[:,:,2] = np.zeros((1404, 1872))\n",
        "plt.figure()\n",
        "plt.imshow(img_red)\n",
        "plt.title('Red')\n",
        "\n",
        "# Green\n",
        "img_green = img.copy()\n",
        "img_green[:,:,0] = np.zeros((1404, 1872))\n",
        "img_green[:,:,2] = np.zeros((1404, 1872))\n",
        "plt.figure()\n",
        "plt.imshow(img_green)\n",
        "plt.title('Green')\n",
        "\n",
        "# Blue\n",
        "img_blue = img.copy()\n",
        "img_blue[:,:,0] = np.zeros((1404, 1872))\n",
        "img_blue[:,:,1] = np.zeros((1404, 1872))\n",
        "plt.figure()\n",
        "plt.imshow(img_blue)\n",
        "plt.title('Blue')"
      ]
    },
    {
      "cell_type": "code",
      "execution_count": null,
      "metadata": {
        "colab": {
          "base_uri": "https://localhost:8080/",
          "height": 538
        },
        "id": "X0DsY2GP3s6O",
        "outputId": "6dbe71f3-0726-4368-d859-e3839286e6c3"
      },
      "outputs": [],
      "source": [
        "# Convert to grayscale\n",
        "R = img[:,:,0]\n",
        "G = img[:,:,1]\n",
        "B = img[:,:,2]\n",
        "          \n",
        "im_gray = 0.2989 * R + 0.5870 * G + 0.1140 * B \n",
        "plt.figure()\n",
        "plt.imshow(im_gray, cmap='gray')\n",
        "# Add noise\n",
        "noise = np.random.randn(im_gray.shape[0], im_gray.shape[1])\n",
        "noisy = np.clip(im_gray + 20*noise, 0, 255)\n",
        "plt.figure()\n",
        "plt.imshow(noisy, cmap='gray')"
      ]
    }
  ],
  "metadata": {
    "colab": {
      "collapsed_sections": [],
      "name": "Images In Computer Demo.ipynb",
      "provenance": []
    },
    "kernelspec": {
      "display_name": "Python 3",
      "language": "python",
      "name": "python3"
    },
    "language_info": {
      "codemirror_mode": {
        "name": "ipython",
        "version": 3
      },
      "file_extension": ".py",
      "mimetype": "text/x-python",
      "name": "python",
      "nbconvert_exporter": "python",
      "pygments_lexer": "ipython3",
      "version": "3.7.4"
    },
    "latex_envs": {
      "LaTeX_envs_menu_present": true,
      "autoclose": true,
      "autocomplete": true,
      "bibliofile": "biblio.bib",
      "cite_by": "apalike",
      "current_citInitial": 1,
      "eqLabelWithNumbers": true,
      "eqNumInitial": 1,
      "hotkeys": {
        "equation": "Ctrl-E",
        "itemize": "Ctrl-I"
      },
      "labels_anchors": false,
      "latex_user_defs": false,
      "report_style_numbering": false,
      "user_envs_cfg": false
    }
  },
  "nbformat": 4,
  "nbformat_minor": 0
}
