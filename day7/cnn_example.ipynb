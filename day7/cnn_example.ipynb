{
  "cells": [
    {
      "cell_type": "code",
      "execution_count": null,
      "metadata": {
        "id": "1r1hS0LQ1Xny"
      },
      "outputs": [],
      "source": [
        "import tensorflow as tf\n",
        "from tensorflow.keras.models import Sequential\n",
        "from tensorflow.keras.layers import Dense, Conv2D, Flatten, MaxPooling2D\n",
        "import numpy as np"
      ]
    },
    {
      "cell_type": "markdown",
      "metadata": {
        "id": "8DQ_m4hM1Xn1"
      },
      "source": [
        "$\\displaystyle n_o = \\Big\\lfloor\\frac{n_i+2p-f}{s} + 1\\Big\\rfloor$"
      ]
    },
    {
      "cell_type": "code",
      "execution_count": null,
      "metadata": {
        "id": "am3F456_1Xn1"
      },
      "outputs": [],
      "source": [
        "def get_next_dimension(n, f, p, s):\n",
        "    return int(np.floor((n + 2*p - f)/s + 1))"
      ]
    },
    {
      "cell_type": "code",
      "execution_count": null,
      "metadata": {
        "id": "WO9bfMEH1Xn2"
      },
      "outputs": [],
      "source": [
        "model = Sequential([\n",
        "    Conv2D(16, (5, 5), activation='relu', padding='same', input_shape=(39, 39, 3)),\n",
        "    MaxPooling2D(strides=(2, 2)),\n",
        "    Conv2D(32, (5, 5), activation='relu', padding='valid'),\n",
        "    MaxPooling2D(strides=(2, 2)),\n",
        "    Conv2D(64, (5, 5), activation='relu', padding='valid'),\n",
        "    MaxPooling2D(strides=(2, 2)),\n",
        "    Flatten(),\n",
        "    Dense(32, activation='relu'),\n",
        "    Dense(1, activation='relu')\n",
        "])"
      ]
    },
    {
      "cell_type": "code",
      "execution_count": null,
      "metadata": {
        "colab": {
          "base_uri": "https://localhost:8080/"
        },
        "id": "0NHULFuH1Xn3",
        "outputId": "25059060-48cc-4982-f023-f897e2a8aa26"
      },
      "outputs": [],
      "source": [
        "model.summary()"
      ]
    },
    {
      "cell_type": "code",
      "execution_count": null,
      "metadata": {
        "id": "YJEaKhMW1b0c"
      },
      "outputs": [],
      "source": []
    }
  ],
  "metadata": {
    "colab": {
      "name": "cnn_example.ipynb",
      "provenance": []
    },
    "kernelspec": {
      "display_name": "Python 3",
      "language": "python",
      "name": "python3"
    },
    "language_info": {
      "codemirror_mode": {
        "name": "ipython",
        "version": 3
      },
      "file_extension": ".py",
      "mimetype": "text/x-python",
      "name": "python",
      "nbconvert_exporter": "python",
      "pygments_lexer": "ipython3",
      "version": "3.7.4"
    },
    "latex_envs": {
      "LaTeX_envs_menu_present": true,
      "autoclose": true,
      "autocomplete": true,
      "bibliofile": "biblio.bib",
      "cite_by": "apalike",
      "current_citInitial": 1,
      "eqLabelWithNumbers": true,
      "eqNumInitial": 1,
      "hotkeys": {
        "equation": "Ctrl-E",
        "itemize": "Ctrl-I"
      },
      "labels_anchors": false,
      "latex_user_defs": false,
      "report_style_numbering": false,
      "user_envs_cfg": false
    }
  },
  "nbformat": 4,
  "nbformat_minor": 0
}
