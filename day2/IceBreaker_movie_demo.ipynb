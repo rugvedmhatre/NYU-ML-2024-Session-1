{
  "cells": [
    {
      "cell_type": "markdown",
      "metadata": {},
      "source": [
        "# Ice Breaker Dataset Visualization"
      ]
    },
    {
      "cell_type": "code",
      "execution_count": null,
      "metadata": {
        "id": "zXL3u543mvYN"
      },
      "outputs": [],
      "source": [
        "import pandas as pd\n",
        "import numpy as np\n",
        "import matplotlib\n",
        "import matplotlib.pyplot as plt"
      ]
    },
    {
      "cell_type": "code",
      "execution_count": null,
      "metadata": {
        "id": "W-Tj_d6nnWqw"
      },
      "outputs": [],
      "source": [
        "# dataframe - df\n",
        "\n",
        "df = pd.read_csv('...') # add the link of the dataset file from the GitHub repository"
      ]
    },
    {
      "cell_type": "code",
      "execution_count": null,
      "metadata": {
        "id": "meCMHRWTnfZW"
      },
      "outputs": [],
      "source": [
        "df.head()"
      ]
    },
    {
      "cell_type": "code",
      "execution_count": null,
      "metadata": {},
      "outputs": [],
      "source": [
        "df.head(25)"
      ]
    },
    {
      "cell_type": "markdown",
      "metadata": {
        "id": "xkstl8sJK5jX"
      },
      "source": [
        "## Plot the IMDB Ratings for all the movies\n",
        "- Use the [plt.scatter() function](https://matplotlib.org/3.2.1/api/_as_gen/matplotlib.pyplot.scatter.html)\n",
        "- x-axis indicates the name of the movies, y-axis shows the score.\n",
        "- do not forget to put on the labels for the axes."
      ]
    },
    {
      "cell_type": "code",
      "execution_count": null,
      "metadata": {
        "id": "X7b_tjEknqXy"
      },
      "outputs": [],
      "source": [
        "names = df['Movie'].values\n",
        "rating = df['IMDB Rating'].values"
      ]
    },
    {
      "cell_type": "code",
      "execution_count": null,
      "metadata": {
        "id": "EebaW8RPK5jY"
      },
      "outputs": [],
      "source": [
        "## To-do\n"
      ]
    },
    {
      "cell_type": "markdown",
      "metadata": {},
      "source": [
        "**(Optional)** Now try plotting this as a bar graph. *(You can Google for documentation)*"
      ]
    },
    {
      "cell_type": "code",
      "execution_count": null,
      "metadata": {},
      "outputs": [],
      "source": [
        "## (Optional) To-do\n"
      ]
    },
    {
      "cell_type": "markdown",
      "metadata": {
        "id": "yIN8mDZ0K5jb"
      },
      "source": [
        "## Plot the number of movies for each category\n",
        "- Use the [plt.bar() function](https://matplotlib.org/3.2.1/api/_as_gen/matplotlib.pyplot.bar.html)\n",
        "- x-axis indicates the genre, y-axis shows the count for each genre.\n",
        "- do not forget to put on the labels for the axes."
      ]
    },
    {
      "cell_type": "code",
      "execution_count": null,
      "metadata": {
        "id": "WYpmipj4K5jb"
      },
      "outputs": [],
      "source": [
        "# To-do\n"
      ]
    },
    {
      "cell_type": "markdown",
      "metadata": {},
      "source": [
        "**(Optional)** You might have noticed that some primary categories are repeated. For instance, `Action` and `Action/Comedy` are listed as separate categories. Try searching online for a method to retain only the primary category in your dataframe. For example, `Action/Comedy` can be converted to `Action` since Action is the primary category. After cleaning up your dataset, try plotting the same graph again."
      ]
    },
    {
      "cell_type": "code",
      "execution_count": null,
      "metadata": {},
      "outputs": [],
      "source": [
        "# (Optional) To-do\n"
      ]
    },
    {
      "cell_type": "markdown",
      "metadata": {
        "id": "VIanecbER2ra"
      },
      "source": [
        "## Plot the histogram for the IMDB Ratings\n",
        "- Use [plt.hist() function](https://matplotlib.org/api/_as_gen/matplotlib.pyplot.hist.html)\n",
        "- x-axis indicates the score interval, y-axis shows the number of movies within each score interval\n",
        "- make the interval length 0.5\n",
        "- do not forget to put on the labels for the axes."
      ]
    },
    {
      "cell_type": "markdown",
      "metadata": {
        "id": "JK4VaynLlRug"
      },
      "source": [
        "- numpy arange() might come in handy!"
      ]
    },
    {
      "cell_type": "code",
      "execution_count": null,
      "metadata": {
        "id": "J0WLGlpQS6vg"
      },
      "outputs": [],
      "source": [
        "# To-do\n"
      ]
    },
    {
      "cell_type": "markdown",
      "metadata": {
        "id": "7WZVNg1cq-sU"
      },
      "source": [
        "## Calculate the mean and variance of the IMDB Ratings of the movies\n"
      ]
    },
    {
      "cell_type": "code",
      "execution_count": null,
      "metadata": {
        "id": "CY-EKqoUOfP6"
      },
      "outputs": [],
      "source": [
        "# To-do\n"
      ]
    },
    {
      "cell_type": "markdown",
      "metadata": {},
      "source": [
        "**(Optional)** Try visualizing the Mean Rating on our histogram graph."
      ]
    },
    {
      "cell_type": "code",
      "execution_count": null,
      "metadata": {
        "id": "yC8ID0XpYcdu"
      },
      "outputs": [],
      "source": [
        "# To-do\n"
      ]
    }
  ],
  "metadata": {
    "colab": {
      "name": "IceBreakerDemo.ipynb",
      "provenance": []
    },
    "kernelspec": {
      "display_name": "Python 3",
      "language": "python",
      "name": "python3"
    },
    "language_info": {
      "codemirror_mode": {
        "name": "ipython",
        "version": 3
      },
      "file_extension": ".py",
      "mimetype": "text/x-python",
      "name": "python",
      "nbconvert_exporter": "python",
      "pygments_lexer": "ipython3",
      "version": "3.7.0"
    },
    "latex_envs": {
      "LaTeX_envs_menu_present": true,
      "autoclose": true,
      "autocomplete": true,
      "bibliofile": "biblio.bib",
      "cite_by": "apalike",
      "current_citInitial": 1,
      "eqLabelWithNumbers": true,
      "eqNumInitial": 1,
      "hotkeys": {
        "equation": "Ctrl-E",
        "itemize": "Ctrl-I"
      },
      "labels_anchors": false,
      "latex_user_defs": false,
      "report_style_numbering": false,
      "user_envs_cfg": false
    }
  },
  "nbformat": 4,
  "nbformat_minor": 0
}
