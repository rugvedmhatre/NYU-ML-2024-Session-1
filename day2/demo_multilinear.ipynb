{
 "cells": [
  {
   "cell_type": "markdown",
   "metadata": {
    "colab_type": "text",
    "id": "w78DOASLWcCD"
   },
   "source": [
    "# Demo: Multivariable Regression on Boston Housing Data"
   ]
  },
  {
   "cell_type": "code",
   "execution_count": null,
   "metadata": {
    "colab": {
     "base_uri": "https://localhost:8080/",
     "height": 54
    },
    "colab_type": "code",
    "id": "iDw4tjflX1C1",
    "outputId": "b88598eb-d16e-49f2-9f27-5321b3b438a2"
   },
   "outputs": [],
   "source": [
    "import pandas as pd\n",
    "import numpy as np\n",
    "\n",
    "names =['CRIM', 'ZN', 'INDUS', 'CHAS', 'NOX', 'RM', 'AGE',  'DIS', 'RAD', 'TAX', 'PTRATIO', 'B', 'LSTAT', 'PRICE']\n",
    "\n",
    "df = pd.read_csv('https://archive.ics.uci.edu/ml/machine-learning-databases/housing/housing.data', \n",
    "                 header=None, delim_whitespace=True, names=names, na_values='?')\n",
    "\n",
    "\"\"\"\n",
    "Attribute Information:\n",
    "    1.  CRIM      per capita crime rate by town\n",
    "    2.  ZN        proportion of residential land zoned for lots over \n",
    "                  25,000 sq.ft.\n",
    "    3.  INDUS     proportion of non-retail business acres per town\n",
    "    4.  CHAS      Charles River dummy variable (= 1 if tract bounds \n",
    "                  river; 0 otherwise)\n",
    "    5.  NOX       nitric oxides concentration (parts per 10 million)\n",
    "    6.  RM        average number of rooms per dwelling\n",
    "    7.  AGE       proportion of owner-occupied units built prior to 1940\n",
    "    8.  DIS       weighted distances to five Boston employment centres\n",
    "    9.  RAD       index of accessibility to radial highways\n",
    "    10. TAX       full-value property-tax rate per $10,000\n",
    "    11. PTRATIO   pupil-teacher ratio by town\n",
    "    12. B         1000(Bk - 0.63)^2 where Bk is the proportion of blocks by town\n",
    "    13. LSTAT     % lower status of the population\n",
    "    14. MEDV      Median value of owner-occupied homes in $1000's\n",
    "\"\"\""
   ]
  },
  {
   "cell_type": "markdown",
   "metadata": {
    "colab_type": "text",
    "id": "3_jtITf0KLkf"
   },
   "source": [
    "## Forming the Design Matrix\n",
    "\n",
    "We want to put our features into feature vectors (stacked into a design matrix). Here we check the difference between the numpy and pandas datatype, and see the importance of using ```df['feature'].values``` to get a numpy array returned."
   ]
  },
  {
   "cell_type": "code",
   "execution_count": null,
   "metadata": {
    "colab": {
     "base_uri": "https://localhost:8080/",
     "height": 51
    },
    "colab_type": "code",
    "id": "LTKzw2raPlZj",
    "outputId": "7c45ede8-ed0d-4387-b4e9-9572896e4ae7"
   },
   "outputs": [],
   "source": [
    "print(df.columns.to_list())\n",
    "features=df.columns.to_list()\n",
    "features.remove('PRICE')\n",
    "print(features)"
   ]
  },
  {
   "cell_type": "markdown",
   "metadata": {
    "colab_type": "text",
    "id": "jhjwussDaUHG"
   },
   "source": [
    "Treat all the features as a vector, $\\mathbf{x}$, and stack the samples in a $N$ by $D$ matrix, $X$, where $N$ is the number of samples and $D$ is the number of features."
   ]
  },
  {
   "cell_type": "code",
   "execution_count": null,
   "metadata": {
    "colab": {
     "base_uri": "https://localhost:8080/",
     "height": 255
    },
    "colab_type": "code",
    "id": "jS5abEJGZWEp",
    "outputId": "dd3f763c-7bc2-42c6-d864-b1de6c077cd3"
   },
   "outputs": [],
   "source": [
    "print(df)"
   ]
  },
  {
   "cell_type": "code",
   "execution_count": null,
   "metadata": {
    "colab": {
     "base_uri": "https://localhost:8080/",
     "height": 153
    },
    "colab_type": "code",
    "id": "Pa2MknICnmJJ",
    "outputId": "cd3c0d99-77bc-42f6-8692-a6249ffa740a"
   },
   "outputs": [],
   "source": [
    "# Features\n",
    "X = df[features].values\n",
    "print(X)\n",
    "print(X.shape)\n",
    "print(f\"The dataset contains {X.shape[0]} data points with {X.shape[1]} features\")"
   ]
  },
  {
   "cell_type": "code",
   "execution_count": null,
   "metadata": {
    "colab": {
     "base_uri": "https://localhost:8080/",
     "height": 51
    },
    "colab_type": "code",
    "id": "okBuUq7iY02B",
    "outputId": "0b36bd6a-d4de-4a9d-c901-aa1e232ad38f"
   },
   "outputs": [],
   "source": [
    "# Labels\n",
    "y = df['PRICE'].values\n",
    "print(y.shape)\n",
    "y = y.reshape(-1,1)\n",
    "print(y.shape)"
   ]
  },
  {
   "cell_type": "markdown",
   "metadata": {},
   "source": [
    "# Linear Regression"
   ]
  },
  {
   "cell_type": "markdown",
   "metadata": {},
   "source": [
    "We are going to use [sklearn](https://scikit-learn.org/stable/modules/linear_model.html#ordinary-least-squares).\n",
    "\n",
    "First, we define a linear regression model and we fit the model to our data.\n",
    "\n",
    "[LinearRegression](https://scikit-learn.org/stable/modules/generated/sklearn.linear_model.LinearRegression.html)"
   ]
  },
  {
   "cell_type": "code",
   "execution_count": null,
   "metadata": {
    "colab": {
     "base_uri": "https://localhost:8080/",
     "height": 34
    },
    "colab_type": "code",
    "id": "6bd5v3KKnwWz",
    "outputId": "4ebd7afe-5138-4049-ff82-c547d8c373dc"
   },
   "outputs": [],
   "source": [
    "from sklearn.linear_model import LinearRegression\n",
    "\n",
    "regr = LinearRegression(fit_intercept=True)\n",
    "regr.fit(X, y)"
   ]
  },
  {
   "cell_type": "markdown",
   "metadata": {},
   "source": [
    "The accuracy of the model could be evaluated by finding the MSE between the model prediction and corresponding data points"
   ]
  },
  {
   "cell_type": "code",
   "execution_count": null,
   "metadata": {
    "colab": {
     "base_uri": "https://localhost:8080/",
     "height": 34
    },
    "colab_type": "code",
    "id": "lrYanikWnzOt",
    "outputId": "e19bd626-5758-4fc3-9cd3-39da700ff2d5"
   },
   "outputs": [],
   "source": [
    "y_hat = regr.predict(X)  # Model prediction\n",
    "print(y_hat.shape)"
   ]
  },
  {
   "cell_type": "code",
   "execution_count": null,
   "metadata": {
    "colab": {
     "base_uri": "https://localhost:8080/",
     "height": 34
    },
    "colab_type": "code",
    "id": "VCzXiQPun1mP",
    "outputId": "263aa978-63ac-45db-b38b-8bdb61de66d2"
   },
   "outputs": [],
   "source": [
    "mse_y = np.mean((y-y_hat)**2)\n",
    "print(mse_y)"
   ]
  },
  {
   "cell_type": "markdown",
   "metadata": {},
   "source": [
    "### Here are the parameter of the model :"
   ]
  },
  {
   "cell_type": "code",
   "execution_count": null,
   "metadata": {
    "colab": {
     "base_uri": "https://localhost:8080/",
     "height": 102
    },
    "colab_type": "code",
    "id": "rstorV9_n7zi",
    "outputId": "1ebd1496-64c4-406d-e110-d346877580f7"
   },
   "outputs": [],
   "source": [
    "print(regr.coef_)        # this is [w_1, ...., w_n]\n",
    "print(regr.intercept_)   # this the bias w_0"
   ]
  },
  {
   "cell_type": "markdown",
   "metadata": {},
   "source": [
    "### Here is a fancy way to compare $y$ and $\\hat{y}$ :"
   ]
  },
  {
   "cell_type": "code",
   "execution_count": null,
   "metadata": {
    "colab": {
     "base_uri": "https://localhost:8080/",
     "height": 187
    },
    "colab_type": "code",
    "id": "EGispxQZoK5y",
    "outputId": "357027b8-81f9-4467-9ffe-6658e9ffdc6d"
   },
   "outputs": [],
   "source": [
    "Y = np.hstack([y, y_hat])\n",
    "with np.printoptions(precision=2):\n",
    "    print(Y[:10,:])"
   ]
  },
  {
   "cell_type": "markdown",
   "metadata": {
    "colab_type": "text",
    "id": "My_yW7qiLhMd"
   },
   "source": [
    "# Exercise : \n",
    "Compute the Least square solution with numpy and compare your result with the one of sklearn !"
   ]
  },
  {
   "cell_type": "code",
   "execution_count": null,
   "metadata": {
    "colab": {
     "base_uri": "https://localhost:8080/",
     "height": 34
    },
    "colab_type": "code",
    "id": "fCgBwDJaY02E",
    "outputId": "6c4d3a12-d95a-4c64-ae0f-67ba3afb3e74"
   },
   "outputs": [],
   "source": [
    "## To do"
   ]
  }
 ],
 "metadata": {
  "colab": {
   "collapsed_sections": [
    "vKrhN7KoDRi1"
   ],
   "name": "Day2_Student.ipynb",
   "provenance": []
  },
  "kernelspec": {
   "display_name": "Python 3",
   "language": "python",
   "name": "python3"
  },
  "language_info": {
   "codemirror_mode": {
    "name": "ipython",
    "version": 3
   },
   "file_extension": ".py",
   "mimetype": "text/x-python",
   "name": "python",
   "nbconvert_exporter": "python",
   "pygments_lexer": "ipython3",
   "version": "3.7.0"
  },
  "latex_envs": {
   "LaTeX_envs_menu_present": true,
   "autoclose": true,
   "autocomplete": true,
   "bibliofile": "biblio.bib",
   "cite_by": "apalike",
   "current_citInitial": 1,
   "eqLabelWithNumbers": true,
   "eqNumInitial": 1,
   "hotkeys": {
    "equation": "Ctrl-E",
    "itemize": "Ctrl-I"
   },
   "labels_anchors": false,
   "latex_user_defs": false,
   "report_style_numbering": false,
   "user_envs_cfg": false
  }
 },
 "nbformat": 4,
 "nbformat_minor": 1
}
