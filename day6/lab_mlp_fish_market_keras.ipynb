{
  "cells": [
    {
      "cell_type": "code",
      "execution_count": null,
      "metadata": {
        "id": "lPhD3tBWYP9G"
      },
      "outputs": [],
      "source": [
        "import pandas as pd\n",
        "from sklearn.model_selection import train_test_split\n",
        "import tensorflow as tf\n",
        "from tensorflow.keras.models import Sequential\n",
        "from tensorflow.keras.layers import Dense\n",
        "import matplotlib.pyplot as plt\n",
        "import numpy as np"
      ]
    },
    {
      "cell_type": "markdown",
      "metadata": {
        "id": "CTHIFLwUYP9b"
      },
      "source": [
        "### Load and scale the data"
      ]
    },
    {
      "cell_type": "code",
      "execution_count": null,
      "metadata": {
        "id": "mOf98xw7YP9d"
      },
      "outputs": [],
      "source": [
        "feature = pd.read_csv('https://raw.githubusercontent.com/rugvedmhatre/NYU-ML-2024-Session-1/main/day5/fish_market_feature.csv')\n",
        "label = pd.read_csv('https://raw.githubusercontent.com/rugvedmhatre/NYU-ML-2024-Session-1/main/day5/fish_market_label.csv')\n",
        "X = feature.values\n",
        "y = label.values"
      ]
    },
    {
      "cell_type": "code",
      "execution_count": null,
      "metadata": {
        "id": "qLrMTKvFm4VC"
      },
      "outputs": [],
      "source": [
        "# normalize the data using sklearn's StandardScaler\n",
        "from sklearn.preprocessing import StandardScaler\n",
        "\n",
        "scaler = StandardScaler()\n",
        "Xs = scaler.fit_transform(X)"
      ]
    },
    {
      "cell_type": "code",
      "execution_count": null,
      "metadata": {
        "id": "0K6BT_RVm4VC"
      },
      "outputs": [],
      "source": [
        "## TODO\n",
        "# split the SCALED!! data in validation and train\n",
        "\n",
        "X_train, X_val, y_train, y_val = train_test_split(..., test_size=0.1, random_state=3)"
      ]
    },
    {
      "cell_type": "code",
      "execution_count": null,
      "metadata": {
        "id": "3BZ-u4Owm4VD"
      },
      "outputs": [],
      "source": [
        "## TODO\n",
        "# print the number of data samples in the training and validation data"
      ]
    },
    {
      "cell_type": "markdown",
      "metadata": {
        "id": "SXd-R6M1YP9s"
      },
      "source": [
        "### Build Model\n",
        "\n",
        "1) Define a model of three dense hidden layers with ReLU activation functions, plus an final dense layer. The output of the hidden layers should have 32 neurons each. \n",
        "\n",
        "2) Train the model for 2000 epochs with a batch size of 64 and a mean squared error loss.\n"
      ]
    },
    {
      "cell_type": "code",
      "execution_count": null,
      "metadata": {
        "id": "YlKXS0cMeMcp"
      },
      "outputs": [],
      "source": [
        "## TODO\n",
        "n_epochs = 2000\n",
        "batch_size = 64\n",
        "\n",
        "model = Sequential([...])\n",
        "model.compile(...) # use the Adam optimizer\n",
        "\n",
        "# print a summary of the model"
      ]
    },
    {
      "cell_type": "code",
      "execution_count": null,
      "metadata": {
        "id": "fRg6dJMwm4VG"
      },
      "outputs": [],
      "source": [
        "## TODO\n",
        "# train the model (use the train data and validation data from above)\n",
        "history = model.fit(..., validation_data=())"
      ]
    },
    {
      "cell_type": "code",
      "execution_count": null,
      "metadata": {
        "id": "k-GC0wmLm4VH"
      },
      "outputs": [],
      "source": [
        "## TODO\n",
        "# plot the train and validation losses on the same picture\n",
        "# make sure to label the axis and create a legend "
      ]
    },
    {
      "cell_type": "markdown",
      "metadata": {
        "id": "p6kC3IVHYP-E"
      },
      "source": [
        "#### Load the testing dataset"
      ]
    },
    {
      "cell_type": "code",
      "execution_count": null,
      "metadata": {
        "id": "jWgUAW_mYP-F"
      },
      "outputs": [],
      "source": [
        "X_test = pd.read_csv('https://raw.githubusercontent.com/rugvedmhatre/NYU-ML-2024-Session-1/main/day5/fish_market_test_feature.csv').values\n",
        "y_test = pd.read_csv('https://raw.githubusercontent.com/rugvedmhatre/NYU-ML-2024-Session-1/main/day5/fish_market_test_label.csv').values"
      ]
    },
    {
      "cell_type": "code",
      "execution_count": null,
      "metadata": {
        "id": "N6_ee1QSm4VJ"
      },
      "outputs": [],
      "source": [
        "# scale the test data using the scaler above\n",
        "Xtest_s = scaler.transform(X_test)"
      ]
    },
    {
      "cell_type": "code",
      "execution_count": null,
      "metadata": {
        "id": "CxrXrxmXm4VK"
      },
      "outputs": [],
      "source": [
        "## TODO\n",
        "# predict the corresponding y_hat value of the test dataset (use the scaled test data)\n",
        "y_hat = model.predict(...)"
      ]
    },
    {
      "cell_type": "code",
      "execution_count": null,
      "metadata": {
        "id": "A8hiFtuwYP-P"
      },
      "outputs": [],
      "source": [
        "plt.figure(figsize=(8,6))\n",
        "plt.scatter(np.arange(y_hat.shape[0]), y_hat, label='Prediction')\n",
        "plt.scatter(np.arange(y_test.shape[0]), y_test, label='Ground Truth')\n",
        "plt.legend()\n",
        "plt.xlabel('data no.')\n",
        "plt.ylabel('predicted value')\n",
        "plt.grid()"
      ]
    },
    {
      "cell_type": "code",
      "execution_count": null,
      "metadata": {
        "id": "6D2GFSHBm4VL"
      },
      "outputs": [],
      "source": [
        "## TODO\n",
        "# print MSE, RMSE (root-mse), MAE on the train and test data\n",
        "# compare these results against last week's results (when we used linear/polynimial regression)"
      ]
    }
  ],
  "metadata": {
    "colab": {
      "collapsed_sections": [],
      "name": "lab_mlp_fish_market_keras.ipynb",
      "provenance": []
    },
    "kernelspec": {
      "display_name": "Python 3",
      "language": "python",
      "name": "python3"
    },
    "language_info": {
      "codemirror_mode": {
        "name": "ipython",
        "version": 3
      },
      "file_extension": ".py",
      "mimetype": "text/x-python",
      "name": "python",
      "nbconvert_exporter": "python",
      "pygments_lexer": "ipython3",
      "version": "3.7.4"
    }
  },
  "nbformat": 4,
  "nbformat_minor": 0
}
