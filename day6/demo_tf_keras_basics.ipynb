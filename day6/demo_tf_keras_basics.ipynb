{
  "cells": [
    {
      "cell_type": "code",
      "execution_count": null,
      "metadata": {
        "id": "29KIsL99-rNa"
      },
      "outputs": [],
      "source": [
        "import tensorflow as tf\n",
        "from sklearn.model_selection import train_test_split\n",
        "from tensorflow.keras.models import Sequential\n",
        "from tensorflow.keras.layers import Dense\n",
        "import numpy as np\n",
        "import matplotlib.pyplot as plt"
      ]
    },
    {
      "cell_type": "markdown",
      "metadata": {
        "id": "RNky-aEF-rNb"
      },
      "source": [
        "Keras: https://keras.io/"
      ]
    },
    {
      "cell_type": "markdown",
      "metadata": {
        "id": "18-HEKzy-rNb"
      },
      "source": [
        "### Define the neural network model\n",
        "\n",
        "\n",
        "Using the Keras Sequential API we define a model with three fully connected layers. \n",
        "- The first layer has an input with size of $[\\texttt{batch_size}, \\texttt{d0}, \\texttt{d1}]$. However, in the input shape argument we only need to specify $[\\texttt{d0}, \\texttt{d1}]$, if the input does not have a second dimension $\\texttt{d1}$ then in the input shape argument we can write $(\\texttt{d0}, )$.\n",
        "- The first layer also has an activation function, which we can specify using the activation argument, common choices are ReLU, sigmoid, tanh and linear. \n",
        "- By simply adding another Dense object layer to the Sequential model we can build the second layer.\n",
        "\n",
        "<img src=\"https://miro.medium.com/max/1400/1*ZB6H4HuF58VcMOWbdpcRxQ.png\" alt=\"NN_Image\" width=\"400\">"
      ]
    },
    {
      "cell_type": "markdown",
      "metadata": {
        "id": "eqv4jK8d-rNb"
      },
      "source": [
        "$$h_1 = g(a_1) = g(W_1^Tx + b_1)$$\n",
        "\n",
        "$$h_2 = g(a_2) = g(W_2^Th_1 + b_2)$$\n",
        "\n",
        "$$y = g(a_3) = g(W_3^Th_2 + b_3)$$"
      ]
    },
    {
      "cell_type": "code",
      "execution_count": null,
      "metadata": {
        "id": "NF-idJAV-rNc"
      },
      "outputs": [],
      "source": [
        "model = Sequential([\n",
        "    Dense(16, activation='relu', input_shape=(1,)),\n",
        "    Dense(16, activation='relu'),\n",
        "    Dense(1, activation='linear')\n",
        "])"
      ]
    },
    {
      "cell_type": "code",
      "execution_count": null,
      "metadata": {
        "colab": {
          "base_uri": "https://localhost:8080/"
        },
        "id": "Bulc3pym-rNc",
        "outputId": "42c8d987-16f1-4c99-eeaa-2acc5714b7ca"
      },
      "outputs": [],
      "source": [
        "model.summary()"
      ]
    },
    {
      "cell_type": "code",
      "execution_count": null,
      "metadata": {
        "id": "48vcyKTs-rNd"
      },
      "outputs": [],
      "source": [
        "model.compile(\n",
        "    optimizer='adam', # 'rmsprop', 'sgd'\n",
        "    loss='mean_squared_error', # 'mae'\n",
        "    metrics='mse'\n",
        ")"
      ]
    },
    {
      "cell_type": "markdown",
      "metadata": {
        "id": "G1mI3-QwDNYi"
      },
      "source": [
        "##ReLU\n",
        "<img src=\"https://miro.medium.com/max/1400/1*XxxiA0jJvPrHEJHD4z893g.png\" alt=\"NN_Image\" width=\"800\">"
      ]
    },
    {
      "cell_type": "markdown",
      "metadata": {
        "id": "tY1znnoZ-rNd"
      },
      "source": [
        "### Generate random data\n",
        "\n",
        "In this example we will try to fit the curve\n",
        "$$f(x) = x\\cos(x) + \\sin^2(x)$$"
      ]
    },
    {
      "cell_type": "code",
      "execution_count": null,
      "metadata": {
        "id": "NplHZnCU-rNd"
      },
      "outputs": [],
      "source": [
        "X_train = tf.random.uniform(shape=[1000, ], minval=0, maxval=12)\n",
        "Y_train = X_train * tf.cos(X_train) + tf.sin(X_train) ** 2 + 0.5*tf.random.normal(shape=[1000, ])\n",
        "\n",
        "X_test = tf.random.uniform(shape=[500, ], minval=0, maxval=12)\n",
        "Y_test = X_test * tf.cos(X_test) + tf.sin(X_test) ** 2 + 0.5*tf.random.normal(shape=[500, ])"
      ]
    },
    {
      "cell_type": "code",
      "execution_count": null,
      "metadata": {
        "colab": {
          "base_uri": "https://localhost:8080/"
        },
        "id": "BLLMQ0J6-rNe",
        "outputId": "96223693-6de7-4e33-f356-765f96cc2b01"
      },
      "outputs": [],
      "source": [
        "X_train = tf.reshape(X_train, (-1, 1))\n",
        "Y_train = tf.reshape(Y_train, (-1, 1))\n",
        "X_train.shape, Y_train.shape"
      ]
    },
    {
      "cell_type": "markdown",
      "metadata": {
        "id": "tgPCgXXr-rNe"
      },
      "source": [
        "Now we can visualize the data, note that since the data is not sorted we should use a scatter plot."
      ]
    },
    {
      "cell_type": "code",
      "execution_count": null,
      "metadata": {
        "colab": {
          "base_uri": "https://localhost:8080/",
          "height": 388
        },
        "id": "jpTabyge-rNe",
        "outputId": "f9dce3e3-a278-4749-e419-bbe2e2bc9bc1"
      },
      "outputs": [],
      "source": [
        "plt.figure(figsize=(8,6))\n",
        "plt.scatter(X_train.numpy(), Y_train.numpy())\n",
        "plt.xlabel('x')\n",
        "plt.ylabel('y')\n",
        "plt.grid()"
      ]
    },
    {
      "cell_type": "markdown",
      "metadata": {
        "id": "i3Gza5OY-rNe"
      },
      "source": [
        "### Training\n",
        "\n",
        "Using the generated data we can train the neural network model, we train it for 500 epochs (one epoch is one pass over the entire dataset) with a batch size of 64."
      ]
    },
    {
      "cell_type": "code",
      "execution_count": null,
      "metadata": {
        "colab": {
          "base_uri": "https://localhost:8080/"
        },
        "id": "xBzbND2l-rNf",
        "outputId": "64f68146-2ef0-451d-cb9f-eb6e72795f84",
        "scrolled": true
      },
      "outputs": [],
      "source": [
        "# training_history = model.fit(features, labels, epochs=epochs, batch_size=batch_size)\n",
        "history = model.fit(X_train, Y_train, epochs=1000, validation_split=0.1, batch_size=32)"
      ]
    },
    {
      "cell_type": "code",
      "execution_count": null,
      "metadata": {
        "colab": {
          "base_uri": "https://localhost:8080/"
        },
        "id": "RfPO-DCg-rNf",
        "outputId": "bec0a531-75c0-4833-fdb6-5f06671072ac"
      },
      "outputs": [],
      "source": [
        "print(len(history.history['loss']))"
      ]
    },
    {
      "cell_type": "markdown",
      "metadata": {
        "id": "94hN6mpq-rNf"
      },
      "source": [
        "### Evaluate the performance of the model\n",
        "\n",
        "Using the `model.predict()` method we can evaluate the performance of our model on the testing dataset and compare it with the corresponding ground truth data."
      ]
    },
    {
      "cell_type": "code",
      "execution_count": null,
      "metadata": {
        "id": "89Ijildx-rNg"
      },
      "outputs": [],
      "source": [
        "# prediction = model.predict(features)\n",
        "y_hat = model.predict(X_test)"
      ]
    },
    {
      "cell_type": "code",
      "execution_count": null,
      "metadata": {
        "colab": {
          "base_uri": "https://localhost:8080/",
          "height": 388
        },
        "id": "UssrEc0S-rNg",
        "outputId": "10d5f062-2d13-49ef-bf4b-27fa66364808"
      },
      "outputs": [],
      "source": [
        "plt.figure(figsize=(8,6))\n",
        "plt.scatter(X_test.numpy(), Y_test.numpy(), label='Ground Truth')\n",
        "plt.scatter(X_test.numpy(), y_hat, marker='x', label='Prediction')\n",
        "plt.legend()\n",
        "plt.xlabel('x')\n",
        "plt.ylabel('y')\n",
        "plt.grid()"
      ]
    },
    {
      "cell_type": "code",
      "execution_count": null,
      "metadata": {
        "id": "mmFik-fu-rNg"
      },
      "outputs": [],
      "source": [
        "loss_history = history.history['loss']"
      ]
    },
    {
      "cell_type": "code",
      "execution_count": null,
      "metadata": {
        "colab": {
          "base_uri": "https://localhost:8080/",
          "height": 388
        },
        "id": "9rCND948-rNg",
        "outputId": "8a440b89-3d35-4b84-ff9a-04238d9df4c2"
      },
      "outputs": [],
      "source": [
        "plt.figure(figsize=(8,6))\n",
        "plt.semilogy(loss_history)\n",
        "plt.xlabel('epochs')\n",
        "plt.ylabel('loss')\n",
        "plt.grid()"
      ]
    },
    {
      "cell_type": "markdown",
      "metadata": {
        "id": "zqfQM65G-rNh"
      },
      "source": [
        "### Summary\n",
        "\n",
        "We can see that using Keras' Sequential API we can build a functional neural network using very few lines of code.\n",
        "```\n",
        "model = Sequential([\n",
        "    Dense(64, activation='relu', input_shape=(1,)),\n",
        "    Dense(128, activation='relu'),\n",
        "    Dense(1, activation='linear')\n",
        "])\n",
        "\n",
        "model.compile(\n",
        "    optimizer='adam',\n",
        "    loss='mean_squared_error',\n",
        "    metrics='mse'\n",
        ")\n",
        "\n",
        "history = model.fit(X_train, Y_train, epochs=500, batch_size=32)\n",
        "```"
      ]
    }
  ],
  "metadata": {
    "colab": {
      "name": "demo_tf_keras_basics.ipynb",
      "provenance": []
    },
    "kernelspec": {
      "display_name": "Python 3",
      "language": "python",
      "name": "python3"
    },
    "language_info": {
      "codemirror_mode": {
        "name": "ipython",
        "version": 3
      },
      "file_extension": ".py",
      "mimetype": "text/x-python",
      "name": "python",
      "nbconvert_exporter": "python",
      "pygments_lexer": "ipython3",
      "version": "3.7.0"
    },
    "latex_envs": {
      "LaTeX_envs_menu_present": true,
      "autoclose": true,
      "autocomplete": true,
      "bibliofile": "biblio.bib",
      "cite_by": "apalike",
      "current_citInitial": 1,
      "eqLabelWithNumbers": true,
      "eqNumInitial": 1,
      "hotkeys": {
        "equation": "Ctrl-E",
        "itemize": "Ctrl-I"
      },
      "labels_anchors": false,
      "latex_user_defs": false,
      "report_style_numbering": false,
      "user_envs_cfg": false
    }
  },
  "nbformat": 4,
  "nbformat_minor": 0
}
